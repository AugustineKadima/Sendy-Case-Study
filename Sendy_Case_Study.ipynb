{
  "nbformat": 4,
  "nbformat_minor": 0,
  "metadata": {
    "colab": {
      "name": "Sendy_Case_Study",
      "provenance": [],
      "collapsed_sections": [
        "-u_ztWVl0oF3",
        "HwiEdOs6MlHm",
        "LNCuZJnX0vnT",
        "n6IcpzOWGIjy",
        "i8TiTXuuyWgK",
        "ZBUtcK1TMrzy"
      ],
      "authorship_tag": "ABX9TyPej63b15NoTJaFV5q9As0E",
      "include_colab_link": true
    },
    "kernelspec": {
      "name": "python3",
      "display_name": "Python 3"
    }
  },
  "cells": [
    {
      "cell_type": "markdown",
      "metadata": {
        "id": "view-in-github",
        "colab_type": "text"
      },
      "source": [
        "<a href=\"https://colab.research.google.com/github/CheronoK/Sendy-Case-Study/blob/main/Sendy_Case_Study.ipynb\" target=\"_parent\"><img src=\"https://colab.research.google.com/assets/colab-badge.svg\" alt=\"Open In Colab\"/></a>"
      ]
    },
    {
      "cell_type": "markdown",
      "metadata": {
        "id": "THp2ybENGi6-"
      },
      "source": [
        "# SENDY CASE STUDY"
      ]
    },
    {
      "cell_type": "markdown",
      "metadata": {
        "id": "uGsIUJAOG3eO"
      },
      "source": [
        "## 1. Defining the Question"
      ]
    },
    {
      "cell_type": "markdown",
      "metadata": {
        "id": "bc8BYq1fHz3D"
      },
      "source": [
        "### a.) Specifying the Data Analytic Question"
      ]
    },
    {
      "cell_type": "markdown",
      "metadata": {
        "id": "hgVMpnLqTVC2"
      },
      "source": [
        "This case study requires one to perform data analysis on data provided by Sendy in order to:\n",
        "\n",
        "* Analyse the order cancellations and visualize the most\n",
        "important aspects. \n",
        "* Recommend how to reduce the number of cancelled orders.\n",
        "* Predict the cancellation reason for all orders with missing data in the second dataset.\n",
        "\n",
        "\n"
      ]
    },
    {
      "cell_type": "markdown",
      "metadata": {
        "id": "t3qm7tY_H7wC"
      },
      "source": [
        "### b.) Defining the Metric of Success"
      ]
    },
    {
      "cell_type": "markdown",
      "metadata": {
        "id": "jEwhtzHlJLLo"
      },
      "source": [
        "Our Metric of Success will be defined by:\n",
        "* Analysis and creating visualizations of the data.\n",
        "* The accuracy score for the predictive model to be built."
      ]
    },
    {
      "cell_type": "markdown",
      "metadata": {
        "id": "_FBDyltjIDep"
      },
      "source": [
        "### c.) Understanding the Context"
      ]
    },
    {
      "cell_type": "markdown",
      "metadata": {
        "id": "JligdqAjU4Ej"
      },
      "source": [
        "Sendy is the delivery partner for moving packages in Kenya. Sendy connects customers with drivers to help deliver goods from one place to another. It dispatches orders in real time to its available drivers and empowers them to make money by connecting them to delivery opportunities.\n",
        "\n",
        "Sendy provides an app and web platform that enables (small) businesses to connect with drivers and request on demand or scheduled package delivery services anytime, any day, 24/7. \n",
        "\n",
        "Partnership is the foundation of what Sendy does. By partnering with Drivers and Businesses,  Sendy empowers individuals to grow their livelihood. Sendy does  this by building a platform that is  simple, transparent, and user Centric. Sendy’s goal is to be the preferred delivery partner in  Africa."
      ]
    },
    {
      "cell_type": "markdown",
      "metadata": {
        "id": "_vHDXb63IIx9"
      },
      "source": [
        "### d.) Recording the Experimental Design"
      ]
    },
    {
      "cell_type": "markdown",
      "metadata": {
        "id": "TW29g42lJTgY"
      },
      "source": [
        "The following are the steps taken to implement the solution :\n",
        "* Define the question, the metric for success, the context, experimental design taken.\n",
        "* Read and explore the given dataset.\n",
        "* Define the appropriateness of the available data to answer the given question.\n",
        "* Find and deal with outliers and missing data within the dataset.\n",
        "* Perform Exploratory Data Analysis and record the observations.\n",
        "* Build a prediction model for this study.\n",
        "* Evaluating the model.\n",
        "* Making predictions.\n",
        "* Challenging the model.\n",
        "* Giving recommendations on how to reduce the number of cancelled orders.\n",
        "* Follow up questions."
      ]
    },
    {
      "cell_type": "markdown",
      "metadata": {
        "id": "dN0f_Rg_IP0R"
      },
      "source": [
        "### e.) Data Relevance"
      ]
    },
    {
      "cell_type": "markdown",
      "metadata": {
        "id": "ozLvPdVIVukp"
      },
      "source": [
        "The data is relevant as it has been provided by Sendy Ltd."
      ]
    },
    {
      "cell_type": "markdown",
      "metadata": {
        "id": "7fW63Y7yG-rK"
      },
      "source": [
        "## 2. Reading the Data"
      ]
    },
    {
      "cell_type": "markdown",
      "metadata": {
        "id": "pEn1t6HzIcwC"
      },
      "source": [
        "### a.) Importing Libraries"
      ]
    },
    {
      "cell_type": "markdown",
      "metadata": {
        "id": "mH1izAgaWfyw"
      },
      "source": [
        "Importing the relevant python libraries to aid in this analysis. Some of the libraries will be imported later on."
      ]
    },
    {
      "cell_type": "code",
      "metadata": {
        "id": "__tyAXmGFZ1a"
      },
      "source": [
        "#Importing libraries for analysis and visualizations\n",
        "import pandas as pd\n",
        "import numpy as np\n",
        "import matplotlib\n",
        "from matplotlib import pyplot as plt\n",
        "import seaborn as sns\n",
        "import warnings\n",
        "warnings.filterwarnings(\"ignore\")"
      ],
      "execution_count": null,
      "outputs": []
    },
    {
      "cell_type": "markdown",
      "metadata": {
        "id": "8Py0q2fFIiLd"
      },
      "source": [
        "### b.) Loading the Dataset"
      ]
    },
    {
      "cell_type": "markdown",
      "metadata": {
        "id": "s2wTCuXcI7XG"
      },
      "source": [
        "Here, we load the three datasets from excel."
      ]
    },
    {
      "cell_type": "code",
      "metadata": {
        "id": "nKhzeacnJdFz"
      },
      "source": [
        "#Loading the dataset\n",
        "\n",
        "#Filepath\n",
        "excel_path = \"/content/Junior Data Analyst Data for Case Study.xlsx\"\n",
        "\n",
        "#The first dataset\n",
        "df1 = pd.read_excel(excel_path, \"Query result\") # Query Result is the sheet name\n",
        "\n",
        "#The second dataset\n",
        "df2  = pd.read_excel(excel_path, 1) # 1 is the index of the second sheet\n",
        "\n",
        "#Loading the Data description\n",
        "Metadata  = pd.read_excel(excel_path, 2) # 2 is the index of the second sheet\n",
        "Metadata.dropna(axis=1,how='any',thresh=None,subset=None,inplace=True)\n",
        "new_header = Metadata.iloc[0] #grab the first row for the header\n",
        "Metadata = Metadata[1:] #take the data less the header row\n",
        "Metadata.columns = new_header #set the header row as the Metadata header"
      ],
      "execution_count": null,
      "outputs": []
    },
    {
      "cell_type": "markdown",
      "metadata": {
        "id": "C_zmyg-QHGqx"
      },
      "source": [
        "## 3. Checking the Data"
      ]
    },
    {
      "cell_type": "code",
      "metadata": {
        "colab": {
          "base_uri": "https://localhost:8080/",
          "height": 557
        },
        "id": "adZH5VycXut9",
        "outputId": "4ecae1c5-1b82-4109-fb27-ea35c3087c1d"
      },
      "source": [
        "#Checking the data description\n",
        "Metadata"
      ],
      "execution_count": null,
      "outputs": [
        {
          "output_type": "execute_result",
          "data": {
            "text/html": [
              "<div>\n",
              "<style scoped>\n",
              "    .dataframe tbody tr th:only-of-type {\n",
              "        vertical-align: middle;\n",
              "    }\n",
              "\n",
              "    .dataframe tbody tr th {\n",
              "        vertical-align: top;\n",
              "    }\n",
              "\n",
              "    .dataframe thead th {\n",
              "        text-align: right;\n",
              "    }\n",
              "</style>\n",
              "<table border=\"1\" class=\"dataframe\">\n",
              "  <thead>\n",
              "    <tr style=\"text-align: right;\">\n",
              "      <th></th>\n",
              "      <th>Column</th>\n",
              "      <th>Description</th>\n",
              "    </tr>\n",
              "  </thead>\n",
              "  <tbody>\n",
              "    <tr>\n",
              "      <th>1</th>\n",
              "      <td>Personal or Business</td>\n",
              "      <td>Indicates if the order was placed by an indivi...</td>\n",
              "    </tr>\n",
              "    <tr>\n",
              "      <th>2</th>\n",
              "      <td>Business Number</td>\n",
              "      <td>The internal business number of the business t...</td>\n",
              "    </tr>\n",
              "    <tr>\n",
              "      <th>3</th>\n",
              "      <td>Vehicle Type</td>\n",
              "      <td>Vehicle that serviced the order e.g. Bike</td>\n",
              "    </tr>\n",
              "    <tr>\n",
              "      <th>4</th>\n",
              "      <td>Standard or Express</td>\n",
              "      <td>Type of order i.e Standard (We wait for multip...</td>\n",
              "    </tr>\n",
              "    <tr>\n",
              "      <th>5</th>\n",
              "      <td>Platform</td>\n",
              "      <td>Platform that the order was placed e.g. iOS, a...</td>\n",
              "    </tr>\n",
              "    <tr>\n",
              "      <th>6</th>\n",
              "      <td>Cancel Reason</td>\n",
              "      <td>Reason why the customer cancelled the order</td>\n",
              "    </tr>\n",
              "    <tr>\n",
              "      <th>7</th>\n",
              "      <td>Cancelled by</td>\n",
              "      <td>Person who cancelled the order, either staff o...</td>\n",
              "    </tr>\n",
              "    <tr>\n",
              "      <th>8</th>\n",
              "      <td>Placement Day</td>\n",
              "      <td>Day the order was placed i.e. 1 = Monday</td>\n",
              "    </tr>\n",
              "    <tr>\n",
              "      <th>9</th>\n",
              "      <td>Placement Time</td>\n",
              "      <td>Time the order was placed in 24 Hour Format</td>\n",
              "    </tr>\n",
              "    <tr>\n",
              "      <th>10</th>\n",
              "      <td>Confirmation Day</td>\n",
              "      <td>Day the order was confirmed i.e. 1 = Monday</td>\n",
              "    </tr>\n",
              "    <tr>\n",
              "      <th>11</th>\n",
              "      <td>Confirmation Time</td>\n",
              "      <td>Time the order was confirmed in 24 Hour Format</td>\n",
              "    </tr>\n",
              "    <tr>\n",
              "      <th>12</th>\n",
              "      <td>Cancellation Day</td>\n",
              "      <td>Day the order was cancelled i.e. 1 = Monday</td>\n",
              "    </tr>\n",
              "    <tr>\n",
              "      <th>13</th>\n",
              "      <td>Cancellation Time</td>\n",
              "      <td>Time the order was cancelled in 24 Hour Format</td>\n",
              "    </tr>\n",
              "    <tr>\n",
              "      <th>14</th>\n",
              "      <td>Distance (KM)</td>\n",
              "      <td>Distance of the order from pick up to destination</td>\n",
              "    </tr>\n",
              "    <tr>\n",
              "      <th>15</th>\n",
              "      <td>Pickup Lat</td>\n",
              "      <td>Lattitude of the pick up location</td>\n",
              "    </tr>\n",
              "    <tr>\n",
              "      <th>16</th>\n",
              "      <td>Pickup Long</td>\n",
              "      <td>Longitude of the pick up location</td>\n",
              "    </tr>\n",
              "    <tr>\n",
              "      <th>17</th>\n",
              "      <td>scheduled</td>\n",
              "      <td>Indicates if the order was scheduled or ondemand</td>\n",
              "    </tr>\n",
              "  </tbody>\n",
              "</table>\n",
              "</div>"
            ],
            "text/plain": [
              "0                 Column                                        Description\n",
              "1   Personal or Business  Indicates if the order was placed by an indivi...\n",
              "2        Business Number  The internal business number of the business t...\n",
              "3           Vehicle Type          Vehicle that serviced the order e.g. Bike\n",
              "4    Standard or Express  Type of order i.e Standard (We wait for multip...\n",
              "5               Platform  Platform that the order was placed e.g. iOS, a...\n",
              "6          Cancel Reason        Reason why the customer cancelled the order\n",
              "7           Cancelled by  Person who cancelled the order, either staff o...\n",
              "8          Placement Day           Day the order was placed i.e. 1 = Monday\n",
              "9         Placement Time        Time the order was placed in 24 Hour Format\n",
              "10      Confirmation Day        Day the order was confirmed i.e. 1 = Monday\n",
              "11     Confirmation Time     Time the order was confirmed in 24 Hour Format\n",
              "12      Cancellation Day        Day the order was cancelled i.e. 1 = Monday\n",
              "13     Cancellation Time     Time the order was cancelled in 24 Hour Format\n",
              "14         Distance (KM)  Distance of the order from pick up to destination\n",
              "15            Pickup Lat                  Lattitude of the pick up location\n",
              "16           Pickup Long                  Longitude of the pick up location\n",
              "17             scheduled   Indicates if the order was scheduled or ondemand"
            ]
          },
          "metadata": {
            "tags": []
          },
          "execution_count": 3
        }
      ]
    },
    {
      "cell_type": "markdown",
      "metadata": {
        "id": "po1Jp_K5cnG6"
      },
      "source": [
        "The following is a description of the features of the datasets and general understanding of the datasets provided.\n",
        "\n",
        "The two datasets have 17 features each which are described as follows:\n",
        "* Personal or Business : This column indicates if the order was placed by an individual (Personal) or a business.\n",
        "* Business Number : The internal business number of the business that placed the order.\n",
        "* Vehicle Type : Vehicle that serviced the order i.e. Bike or Standard Bike.\n",
        "* Standard or Express : Type of order i.e Standard (We wait for multiple orders and then dispatch them together) or Express (just one order at a time) \n",
        "* Platform : Platform that the order was placed.\n",
        "* Cancel Reason : Reason why the customer cancelled the order.\n",
        "* Cancelled by : Person who cancelled the order, either staff or customer.\n",
        "* Placement Day : Day the order was placed i.e. 1 = Monday.\n",
        "* Placement Time : Time the order was placed in 24 Hour Format\n",
        "* Confirmation Day : Day the order was confirmed i.e. 1 = Monday.\n",
        "* Confirmation Time : Time the order was confirmed in 24 Hour Format.\n",
        "* Cancellation Day : Day the order was cancelled i.e. 1 = Monday.\n",
        "* Cancellation Time : Time the order was cancelled in 24 Hour Format,\n",
        "* Distance(KM) : Distance of the order from pick up to destination.\n",
        "* Pickup Lat : Lattitude of the pick up location.\n",
        "* Pickup Long : Longitude of the pick up location.\n",
        "* scheduled : Indicates if the order was scheduled or ondemand."
      ]
    },
    {
      "cell_type": "code",
      "metadata": {
        "id": "SAunWY1FJlRB",
        "colab": {
          "base_uri": "https://localhost:8080/",
          "height": 53
        },
        "outputId": "a4b41bb8-dbce-4d66-ad8e-43a4ad0dfca4"
      },
      "source": [
        "#Determining the number of records in the datasets\n",
        "df1.shape\n",
        "df2.shape\n",
        "\n",
        "display('The main data has {} observations with {} features'.format(df1.shape[0], df1.shape[1]))\n",
        "display('The data with missing cancel reason has {} observations with {} features'.format(df2.shape[0], df2.shape[1]))"
      ],
      "execution_count": null,
      "outputs": [
        {
          "output_type": "display_data",
          "data": {
            "application/vnd.google.colaboratory.intrinsic+json": {
              "type": "string"
            },
            "text/plain": [
              "'The main data has 6398 observations with 17 features'"
            ]
          },
          "metadata": {
            "tags": []
          }
        },
        {
          "output_type": "display_data",
          "data": {
            "application/vnd.google.colaboratory.intrinsic+json": {
              "type": "string"
            },
            "text/plain": [
              "'The data with missing cancel reason has 329 observations with 17 features'"
            ]
          },
          "metadata": {
            "tags": []
          }
        }
      ]
    },
    {
      "cell_type": "code",
      "metadata": {
        "id": "s9J3AgzkJo62",
        "colab": {
          "base_uri": "https://localhost:8080/"
        },
        "outputId": "cbfff7be-f55c-4e8b-88c7-9a328b2edecd"
      },
      "source": [
        "#Checking the top records of both datasets\n",
        "print(df1.head())\n",
        "print(df2.head())"
      ],
      "execution_count": null,
      "outputs": [
        {
          "output_type": "stream",
          "text": [
            "  Personal or Business  Business Number  ... Pickup Long scheduled\n",
            "0             Personal              NaN  ...   36.841437  OnDemAND\n",
            "1             Personal              NaN  ...   36.853394  OnDemAND\n",
            "2             Business          20680.0  ...   36.706867  OnDemAND\n",
            "3             Personal              NaN  ...   36.778776  OnDemAND\n",
            "4             Personal              NaN  ...   36.808166  OnDemAND\n",
            "\n",
            "[5 rows x 17 columns]\n",
            "  Personal or Business  Business Number  ... Pickup Long  scheduled\n",
            "0             Personal              NaN  ...   36.822107   OnDemAND\n",
            "1             Business          20680.0  ...   36.789303   OnDemAND\n",
            "2             Business          17968.0  ...   36.961499   OnDemAND\n",
            "3             Personal              NaN  ...   36.743936   OnDemAND\n",
            "4             Personal              NaN  ...   36.920464  Scheduled\n",
            "\n",
            "[5 rows x 17 columns]\n"
          ],
          "name": "stdout"
        }
      ]
    },
    {
      "cell_type": "code",
      "metadata": {
        "id": "yWC-q_cwJrYN",
        "colab": {
          "base_uri": "https://localhost:8080/"
        },
        "outputId": "b1adfe73-1992-4d94-fb79-ed0e3e95b7ad"
      },
      "source": [
        "#Checking the bottom records of the dataset\n",
        "print(df1.tail())\n",
        "print(df2.tail())"
      ],
      "execution_count": null,
      "outputs": [
        {
          "output_type": "stream",
          "text": [
            "     Personal or Business  Business Number  ... Pickup Long scheduled\n",
            "6393             Personal              NaN  ...   36.767142  OnDemAND\n",
            "6394             Personal              NaN  ...   36.799419  OnDemAND\n",
            "6395             Personal              NaN  ...   36.733265  OnDemAND\n",
            "6396             Personal              NaN  ...   36.825742  OnDemAND\n",
            "6397             Personal              NaN  ...   36.747580  OnDemAND\n",
            "\n",
            "[5 rows x 17 columns]\n",
            "    Personal or Business  Business Number  ... Pickup Long  scheduled\n",
            "324             Personal              NaN  ...   36.775842   OnDemAND\n",
            "325             Personal              NaN  ...   36.770167  Scheduled\n",
            "326             Personal              NaN  ...   36.911953   OnDemAND\n",
            "327             Personal              NaN  ...   36.849949   OnDemAND\n",
            "328             Personal              NaN  ...   36.790044   OnDemAND\n",
            "\n",
            "[5 rows x 17 columns]\n"
          ],
          "name": "stdout"
        }
      ]
    },
    {
      "cell_type": "code",
      "metadata": {
        "id": "xHn-WA9xJw92",
        "colab": {
          "base_uri": "https://localhost:8080/"
        },
        "outputId": "5234596f-707d-4515-c79b-6588f8fd5058"
      },
      "source": [
        "#Checking the columns in the datasets\n",
        "print(\"The columns for the main dataset are : \", df1.columns)\n",
        "print(\"\\n\")\n",
        "print(\"The columns for the other dataset are : \", df2.columns)"
      ],
      "execution_count": null,
      "outputs": [
        {
          "output_type": "stream",
          "text": [
            "The columns for the main dataset are :  Index(['Personal or Business', 'Business Number', 'Vehicle Type',\n",
            "       'Standard or Express', 'Platform', 'Cancel Reason', 'Cancelled by',\n",
            "       'Placement Day', 'Placement Time', 'Confirmation Day',\n",
            "       'Confirmation Time', 'Cancellation Day', 'Cancellation Time',\n",
            "       'Distance (KM)', 'Pickup Lat', 'Pickup Long', 'scheduled'],\n",
            "      dtype='object')\n",
            "\n",
            "\n",
            "The columns for the other dataset are :  Index(['Personal or Business', 'Business Number', 'Vehicle Type',\n",
            "       'Standard or Express', 'Platform', 'Cancel Reason', 'Cancelled by',\n",
            "       'Placement Day', 'Placement Time', 'Confirmation Day',\n",
            "       'Confirmation Time', 'Cancellation Day', 'Cancellation Time',\n",
            "       'Distance (KM)', 'Pickup Lat', 'Pickup Long', 'scheduled'],\n",
            "      dtype='object')\n"
          ],
          "name": "stdout"
        }
      ]
    },
    {
      "cell_type": "code",
      "metadata": {
        "id": "sujvYTsbJ3Pt",
        "colab": {
          "base_uri": "https://localhost:8080/"
        },
        "outputId": "75524415-ea86-4597-bebe-35aa28f78d08"
      },
      "source": [
        "#Checking for null values in the datasets\n",
        "print(df1.isnull().any())\n",
        "print(\"\\n\")\n",
        "print(df2.isnull().any())"
      ],
      "execution_count": null,
      "outputs": [
        {
          "output_type": "stream",
          "text": [
            "Personal or Business    False\n",
            "Business Number          True\n",
            "Vehicle Type            False\n",
            "Standard or Express      True\n",
            "Platform                False\n",
            "Cancel Reason           False\n",
            "Cancelled by            False\n",
            "Placement Day           False\n",
            "Placement Time          False\n",
            "Confirmation Day         True\n",
            "Confirmation Time        True\n",
            "Cancellation Day        False\n",
            "Cancellation Time       False\n",
            "Distance (KM)           False\n",
            "Pickup Lat              False\n",
            "Pickup Long             False\n",
            "scheduled               False\n",
            "dtype: bool\n",
            "\n",
            "\n",
            "Personal or Business    False\n",
            "Business Number          True\n",
            "Vehicle Type            False\n",
            "Standard or Express     False\n",
            "Platform                False\n",
            "Cancel Reason            True\n",
            "Cancelled by            False\n",
            "Placement Day           False\n",
            "Placement Time          False\n",
            "Confirmation Day         True\n",
            "Confirmation Time        True\n",
            "Cancellation Day        False\n",
            "Cancellation Time       False\n",
            "Distance (KM)           False\n",
            "Pickup Lat              False\n",
            "Pickup Long             False\n",
            "scheduled               False\n",
            "dtype: bool\n"
          ],
          "name": "stdout"
        }
      ]
    },
    {
      "cell_type": "code",
      "metadata": {
        "colab": {
          "base_uri": "https://localhost:8080/"
        },
        "id": "C-aFmgh8ZPWx",
        "outputId": "e15647a4-f4ac-4bdb-fd08-faeeb4a14c61"
      },
      "source": [
        "#Checking the number of missing values in each column of both datasets\n",
        "print(df1.isnull().sum())\n",
        "print(\"\\n\")\n",
        "print(df2.isnull().sum())"
      ],
      "execution_count": null,
      "outputs": [
        {
          "output_type": "stream",
          "text": [
            "Personal or Business       0\n",
            "Business Number         3334\n",
            "Vehicle Type               0\n",
            "Standard or Express        5\n",
            "Platform                   0\n",
            "Cancel Reason              0\n",
            "Cancelled by               0\n",
            "Placement Day              0\n",
            "Placement Time             0\n",
            "Confirmation Day        3516\n",
            "Confirmation Time       3516\n",
            "Cancellation Day           0\n",
            "Cancellation Time          0\n",
            "Distance (KM)              0\n",
            "Pickup Lat                 0\n",
            "Pickup Long                0\n",
            "scheduled                  0\n",
            "dtype: int64\n",
            "\n",
            "\n",
            "Personal or Business      0\n",
            "Business Number         169\n",
            "Vehicle Type              0\n",
            "Standard or Express       0\n",
            "Platform                  0\n",
            "Cancel Reason           329\n",
            "Cancelled by              0\n",
            "Placement Day             0\n",
            "Placement Time            0\n",
            "Confirmation Day        223\n",
            "Confirmation Time       223\n",
            "Cancellation Day          0\n",
            "Cancellation Time         0\n",
            "Distance (KM)             0\n",
            "Pickup Lat                0\n",
            "Pickup Long               0\n",
            "scheduled                 0\n",
            "dtype: int64\n"
          ],
          "name": "stdout"
        }
      ]
    },
    {
      "cell_type": "code",
      "metadata": {
        "id": "Oy3TfbrUJ6d4",
        "colab": {
          "base_uri": "https://localhost:8080/"
        },
        "outputId": "3b2b3fb3-3efa-4a70-d46f-8271ef116bef"
      },
      "source": [
        "#Checking for duplicated rows in each dataset\n",
        "print(df1[df1.duplicated()].shape)\n",
        "print(\"\\n\")\n",
        "print(df2[df2.duplicated()].shape)"
      ],
      "execution_count": null,
      "outputs": [
        {
          "output_type": "stream",
          "text": [
            "(0, 17)\n",
            "\n",
            "\n",
            "(0, 17)\n"
          ],
          "name": "stdout"
        }
      ]
    },
    {
      "cell_type": "code",
      "metadata": {
        "id": "QJlq6EAqKG0D",
        "colab": {
          "base_uri": "https://localhost:8080/"
        },
        "outputId": "83672538-2484-45d9-c596-3b2ff30932ff"
      },
      "source": [
        "#Checking the data types in each column of the datasets\n",
        "print(df1.dtypes)\n",
        "print(\"\\n\")\n",
        "print(df2.dtypes)"
      ],
      "execution_count": null,
      "outputs": [
        {
          "output_type": "stream",
          "text": [
            "Personal or Business     object\n",
            "Business Number         float64\n",
            "Vehicle Type             object\n",
            "Standard or Express      object\n",
            "Platform                 object\n",
            "Cancel Reason            object\n",
            "Cancelled by             object\n",
            "Placement Day             int64\n",
            "Placement Time           object\n",
            "Confirmation Day        float64\n",
            "Confirmation Time        object\n",
            "Cancellation Day          int64\n",
            "Cancellation Time        object\n",
            "Distance (KM)             int64\n",
            "Pickup Lat              float64\n",
            "Pickup Long             float64\n",
            "scheduled                object\n",
            "dtype: object\n",
            "\n",
            "\n",
            "Personal or Business     object\n",
            "Business Number         float64\n",
            "Vehicle Type             object\n",
            "Standard or Express      object\n",
            "Platform                 object\n",
            "Cancel Reason           float64\n",
            "Cancelled by             object\n",
            "Placement Day             int64\n",
            "Placement Time           object\n",
            "Confirmation Day        float64\n",
            "Confirmation Time        object\n",
            "Cancellation Day          int64\n",
            "Cancellation Time        object\n",
            "Distance (KM)             int64\n",
            "Pickup Lat              float64\n",
            "Pickup Long             float64\n",
            "scheduled                object\n",
            "dtype: object\n"
          ],
          "name": "stdout"
        }
      ]
    },
    {
      "cell_type": "code",
      "metadata": {
        "id": "j0cA7bfBKKND",
        "colab": {
          "base_uri": "https://localhost:8080/"
        },
        "outputId": "bba42a81-96ea-4e6f-c667-5bae60a19ff1"
      },
      "source": [
        "#Obtaining more information of the datasets\n",
        "print(df1.info())\n",
        "print(\"\\n\")\n",
        "print(df2.info())"
      ],
      "execution_count": null,
      "outputs": [
        {
          "output_type": "stream",
          "text": [
            "<class 'pandas.core.frame.DataFrame'>\n",
            "RangeIndex: 6398 entries, 0 to 6397\n",
            "Data columns (total 17 columns):\n",
            " #   Column                Non-Null Count  Dtype  \n",
            "---  ------                --------------  -----  \n",
            " 0   Personal or Business  6398 non-null   object \n",
            " 1   Business Number       3064 non-null   float64\n",
            " 2   Vehicle Type          6398 non-null   object \n",
            " 3   Standard or Express   6393 non-null   object \n",
            " 4   Platform              6398 non-null   object \n",
            " 5   Cancel Reason         6398 non-null   object \n",
            " 6   Cancelled by          6398 non-null   object \n",
            " 7   Placement Day         6398 non-null   int64  \n",
            " 8   Placement Time        6398 non-null   object \n",
            " 9   Confirmation Day      2882 non-null   float64\n",
            " 10  Confirmation Time     2882 non-null   object \n",
            " 11  Cancellation Day      6398 non-null   int64  \n",
            " 12  Cancellation Time     6398 non-null   object \n",
            " 13  Distance (KM)         6398 non-null   int64  \n",
            " 14  Pickup Lat            6398 non-null   float64\n",
            " 15  Pickup Long           6398 non-null   float64\n",
            " 16  scheduled             6398 non-null   object \n",
            "dtypes: float64(4), int64(3), object(10)\n",
            "memory usage: 849.9+ KB\n",
            "None\n",
            "\n",
            "\n",
            "<class 'pandas.core.frame.DataFrame'>\n",
            "RangeIndex: 329 entries, 0 to 328\n",
            "Data columns (total 17 columns):\n",
            " #   Column                Non-Null Count  Dtype  \n",
            "---  ------                --------------  -----  \n",
            " 0   Personal or Business  329 non-null    object \n",
            " 1   Business Number       160 non-null    float64\n",
            " 2   Vehicle Type          329 non-null    object \n",
            " 3   Standard or Express   329 non-null    object \n",
            " 4   Platform              329 non-null    object \n",
            " 5   Cancel Reason         0 non-null      float64\n",
            " 6   Cancelled by          329 non-null    object \n",
            " 7   Placement Day         329 non-null    int64  \n",
            " 8   Placement Time        329 non-null    object \n",
            " 9   Confirmation Day      106 non-null    float64\n",
            " 10  Confirmation Time     106 non-null    object \n",
            " 11  Cancellation Day      329 non-null    int64  \n",
            " 12  Cancellation Time     329 non-null    object \n",
            " 13  Distance (KM)         329 non-null    int64  \n",
            " 14  Pickup Lat            329 non-null    float64\n",
            " 15  Pickup Long           329 non-null    float64\n",
            " 16  scheduled             329 non-null    object \n",
            "dtypes: float64(5), int64(3), object(9)\n",
            "memory usage: 43.8+ KB\n",
            "None\n"
          ],
          "name": "stdout"
        }
      ]
    },
    {
      "cell_type": "code",
      "metadata": {
        "id": "-J5to9j_J0b0",
        "colab": {
          "base_uri": "https://localhost:8080/"
        },
        "outputId": "d2ddbf58-9f3b-4ab5-ee76-ecaed5a09086"
      },
      "source": [
        "#Checking for unique values in the dataset\n",
        "print(df1.nunique())\n",
        "print(\"\\n\")\n",
        "print(df2.nunique())"
      ],
      "execution_count": null,
      "outputs": [
        {
          "output_type": "stream",
          "text": [
            "Personal or Business       2\n",
            "Business Number          220\n",
            "Vehicle Type               2\n",
            "Standard or Express        2\n",
            "Platform                   5\n",
            "Cancel Reason              7\n",
            "Cancelled by               2\n",
            "Placement Day              7\n",
            "Placement Time          5951\n",
            "Confirmation Day           7\n",
            "Confirmation Time       2681\n",
            "Cancellation Day           7\n",
            "Cancellation Time       5638\n",
            "Distance (KM)            111\n",
            "Pickup Lat              5639\n",
            "Pickup Long             5657\n",
            "scheduled                  2\n",
            "dtype: int64\n",
            "\n",
            "\n",
            "Personal or Business      2\n",
            "Business Number          34\n",
            "Vehicle Type              2\n",
            "Standard or Express       2\n",
            "Platform                  4\n",
            "Cancel Reason             0\n",
            "Cancelled by              2\n",
            "Placement Day             5\n",
            "Placement Time          322\n",
            "Confirmation Day          5\n",
            "Confirmation Time        96\n",
            "Cancellation Day          6\n",
            "Cancellation Time       274\n",
            "Distance (KM)            38\n",
            "Pickup Lat              319\n",
            "Pickup Long             320\n",
            "scheduled                 2\n",
            "dtype: int64\n"
          ],
          "name": "stdout"
        }
      ]
    },
    {
      "cell_type": "code",
      "metadata": {
        "colab": {
          "base_uri": "https://localhost:8080/"
        },
        "id": "55hRNV3KrRMG",
        "outputId": "cf3f8e73-885a-4166-913b-10e496f4dff8"
      },
      "source": [
        "#Checking the unique values\n",
        "print(df1['Personal or Business'].unique())\n",
        "print(df1['Vehicle Type'].unique())\n",
        "print(df1['Standard or Express'].unique())\n",
        "print(df1['Platform'].unique())\n",
        "print(df1['Cancel Reason'].unique())\n",
        "print(df1['Cancelled by'].unique())\n",
        "print(df1['Placement Day'].unique())\n",
        "print(df1['Cancellation Day'].unique())\n",
        "print(df1['scheduled'].unique())"
      ],
      "execution_count": null,
      "outputs": [
        {
          "output_type": "stream",
          "text": [
            "['Personal' 'Business']\n",
            "['Bike' 'Standard Bike']\n",
            "['Express' 'Standard' nan]\n",
            "['android' 'ios' 'desktop' 'API' 'peer_web']\n",
            "['No driver has been allocated to my request.' 'My order is not ready.'\n",
            " 'I placed the wrong locations.' 'No Partner' 'Customer error'\n",
            " 'The driver is too far away.' 'Delay']\n",
            "['Customer' 'Staff']\n",
            "[1 2 3 4 5 6 7]\n",
            "[1 2 3 5 4 7 6]\n",
            "['OnDemAND' 'Scheduled']\n"
          ],
          "name": "stdout"
        }
      ]
    },
    {
      "cell_type": "code",
      "metadata": {
        "id": "1cKNK8muL8ay",
        "colab": {
          "base_uri": "https://localhost:8080/",
          "height": 677
        },
        "outputId": "27d133b9-ca7e-459d-f387-d6122244aaf2"
      },
      "source": [
        "#Checking for outliers\n",
        "#Plotting boxplots to visualize outliers in the dataset\n",
        "\n",
        "#Plotting for the first 11 variables\n",
        "fig, ((ax1, ax2, ax3)) = plt.subplots(1,3, figsize=(20, 10))\n",
        "fig.suptitle('Boxplots for ')\n",
        "sns.boxplot(df1['Distance (KM)'], ax=ax1)\n",
        "sns.boxplot(df1['Pickup Lat'], ax=ax2)\n",
        "sns.boxplot(df1['Pickup Long'], ax=ax3)\n",
        "plt.show()"
      ],
      "execution_count": null,
      "outputs": [
        {
          "output_type": "display_data",
          "data": {
            "image/png": "[encoded data removed]",
            "text/plain": [
              "<Figure size 1440x720 with 3 Axes>"
            ]
          },
          "metadata": {
            "tags": [],
            "needs_background": "light"
          }
        }
      ]
    },
    {
      "cell_type": "markdown",
      "metadata": {
        "id": "1N7Bc1QkfaXP"
      },
      "source": [
        "The following are observations made from the datasets:\n",
        "* The main dataset has 6,398 rows and 17 columns while the dataset with missing cancel reason column has 329 observations with 17 columns.\n",
        "* Both datasets have missing values. Three columns have a lot of missing values i.e.Business Number, Confirmation Day and Confirmation Time. The Standard or Express column has only 5 missing values in the main dataset. The second dataset also has missing vales in the Cancel Reason column.\n",
        "* Both datasets do not have any duplicated entries.\n",
        "* The data types of each column include object, integer and float datatypes. However the datatype on Placement Day, Confirmation Day and Cancellation Day are integer, float and integer respectively. This is wrong as these are categorical columns. \n",
        "* Most of the columns have few unique values implying that they are categorical columns. These columns are as listed below:\n",
        "\n",
        "  > * Personal or Business: This column has two unique vales i.e. Personal and Business.\n",
        "  * Vehicle Type: This column has 2 unique values i.e. Bike and Standard Bike.\n",
        "  * Standard  or Express: This column has 2 unique values i.e. Express and Standard.\n",
        "  * Platform : This columns has 5 unique values i.e. android, ios, desktop, API and peer_web.\n",
        "  * Cancel Reason : This column has 7 unique values implying there are 7 reasons a customer cancelled i.e. No driver has been allocated to my request, My order is not ready, I placed the wrong locations, No Partner, Customer error, The driver is too far away and Delay.\n",
        "  * Cancelled by : This column has 2 unique vales implying only 2 people could cancel the order i.e. Customer or Staff.\n",
        "  * Placement Day : There are only 7 days of the week i.e. 1 = Monday\n",
        "  * Cancellation Day : There are only 7 days of the week i.e. 1 = Monday\n",
        "  * scheduled : There are 2 unique values in this column i.e onDemand and scheduled\n",
        "  * However, the Placement Day, Confirmation Day and Cancellation Day in the second dataset with missing cancel reason have 5, 5 and 6 unique values respectively. Implying that not all days of  the week are present.\n",
        "\n",
        "* The three numerical columns i.e. Distance(km), pickup lat and pickup long have outliers. These will not be removed as they are necessary, they present the information of the orders hence removing them would results in removing actual information about orders.\n"
      ]
    },
    {
      "cell_type": "markdown",
      "metadata": {
        "id": "cfaMv6z_HMO0"
      },
      "source": [
        "## 4. External Dataset Validation"
      ]
    },
    {
      "cell_type": "markdown",
      "metadata": {
        "id": "V9qWNqkuAb6I"
      },
      "source": [
        "The datasets are provided by Sendy Ltd hence could not be externally validated."
      ]
    },
    {
      "cell_type": "markdown",
      "metadata": {
        "id": "NH4z3LJ1HSSM"
      },
      "source": [
        "## 5. Tidying the Dataset"
      ]
    },
    {
      "cell_type": "markdown",
      "metadata": {
        "id": "7NHljUb7moBC"
      },
      "source": [
        "The datasets contain noise and therefore require cleaning before analysis and modelling as data with noise can significantly impact results during analysis and prediction. \n",
        "\n",
        "The following steps will be carried out in order to obtain a clean dataset before analysis and prediction:\n",
        "* Dealing with missing values: The Business number, Confirmation Day and Confirmation Time columns will be dropped as they contain a huge amount of null values. The remaining null vales i.e. 5 entries in the Standard or Express column will be dropped as they are few and will not have a huge impact when removed.\n",
        "* Uniformity: Spaces from column names will be removed and changed to lowercase in order to make it easier when coding.\n",
        "* Feature Engineering: The hour from the Placement and Cancelletion time columns will be extracted.\n",
        "* Data types: The data types in the Placement Day, Confirmation Day and Cancellation Day and Cancel reason will be changed to object as they are categorical. In addition, the newly acquired hours from the Placement time and Cancellation time will be changed to categorical as well."
      ]
    },
    {
      "cell_type": "markdown",
      "metadata": {
        "id": "M3iZ2plKI3O3"
      },
      "source": [
        "### a.) Null Values"
      ]
    },
    {
      "cell_type": "code",
      "metadata": {
        "id": "mCB4mnEiTdrk"
      },
      "source": [
        "#Dropping the Business Number, Confirmation Day and Confirmation Time columns as they have a lot of null values.\n",
        "df1.drop(['Business Number', 'Confirmation Day','Confirmation Time'], axis=1, inplace=True)\n",
        "df2.drop(['Business Number', 'Confirmation Day','Confirmation Time'], axis=1, inplace=True)"
      ],
      "execution_count": null,
      "outputs": []
    },
    {
      "cell_type": "code",
      "metadata": {
        "colab": {
          "base_uri": "https://localhost:8080/"
        },
        "id": "RJdMGgUjXxHI",
        "outputId": "80e91442-ff68-47f0-c7b3-ad71af86ef71"
      },
      "source": [
        "#Dropping the remaining null values in the main dataset\n",
        "df1 = df1.dropna()\n",
        "\n",
        "#Checking whether the missing values in each column of both datasets have been removed\n",
        "print(df1.isnull().sum())\n",
        "print(\"\\n\")\n",
        "print(df2.isnull().sum())"
      ],
      "execution_count": null,
      "outputs": [
        {
          "output_type": "stream",
          "text": [
            "Personal or Business    0\n",
            "Vehicle Type            0\n",
            "Standard or Express     0\n",
            "Platform                0\n",
            "Cancel Reason           0\n",
            "Cancelled by            0\n",
            "Placement Day           0\n",
            "Placement Time          0\n",
            "Cancellation Day        0\n",
            "Cancellation Time       0\n",
            "Distance (KM)           0\n",
            "Pickup Lat              0\n",
            "Pickup Long             0\n",
            "scheduled               0\n",
            "dtype: int64\n",
            "\n",
            "\n",
            "Personal or Business      0\n",
            "Vehicle Type              0\n",
            "Standard or Express       0\n",
            "Platform                  0\n",
            "Cancel Reason           329\n",
            "Cancelled by              0\n",
            "Placement Day             0\n",
            "Placement Time            0\n",
            "Cancellation Day          0\n",
            "Cancellation Time         0\n",
            "Distance (KM)             0\n",
            "Pickup Lat                0\n",
            "Pickup Long               0\n",
            "scheduled                 0\n",
            "dtype: int64\n"
          ],
          "name": "stdout"
        }
      ]
    },
    {
      "cell_type": "markdown",
      "metadata": {
        "id": "zZ3rFEYcaF6-"
      },
      "source": [
        "### b.) Uniformity"
      ]
    },
    {
      "cell_type": "code",
      "metadata": {
        "colab": {
          "base_uri": "https://localhost:8080/"
        },
        "id": "0mqNzOGmaFek",
        "outputId": "3f9713c9-759c-498a-f6c8-3aae68bfcd29"
      },
      "source": [
        "#Removing spaces from the column names and replacing it with an underscore and also removing fullstops\n",
        "df1.columns = df1.columns.str.replace(\" \", \"_\")\n",
        "\n",
        "#Changing the names of the columns to lowercase\n",
        "df1.columns = map(str.lower, df1.columns)\n",
        "\n",
        "#Doing the same for the other dataset with missing cancel reason\n",
        "df2.columns = df2.columns.str.replace(\" \", \"_\")\n",
        "df2.columns = map(str.lower, df2.columns)\n",
        "#Checking the columns in the datasets\n",
        "print(\"The columns for the main dataset are : \", df1.columns)\n",
        "print(\"\\n\")\n",
        "print(\"The columns for the other dataset are : \", df2.columns)"
      ],
      "execution_count": null,
      "outputs": [
        {
          "output_type": "stream",
          "text": [
            "The columns for the main dataset are :  Index(['personal_or_business', 'vehicle_type', 'standard_or_express',\n",
            "       'platform', 'cancel_reason', 'cancelled_by', 'placement_day',\n",
            "       'placement_time', 'cancellation_day', 'cancellation_time',\n",
            "       'distance_(km)', 'pickup_lat', 'pickup_long', 'scheduled'],\n",
            "      dtype='object')\n",
            "\n",
            "\n",
            "The columns for the other dataset are :  Index(['personal_or_business', 'vehicle_type', 'standard_or_express',\n",
            "       'platform', 'cancel_reason', 'cancelled_by', 'placement_day',\n",
            "       'placement_time', 'cancellation_day', 'cancellation_time',\n",
            "       'distance_(km)', 'pickup_lat', 'pickup_long', 'scheduled'],\n",
            "      dtype='object')\n"
          ],
          "name": "stdout"
        }
      ]
    },
    {
      "cell_type": "markdown",
      "metadata": {
        "id": "wPhiBr-junFb"
      },
      "source": [
        "### c.) Feature Engineering and Data types"
      ]
    },
    {
      "cell_type": "code",
      "metadata": {
        "id": "US2mlFYU7B5t"
      },
      "source": [
        "#Changing the time columns to datetime data type and then extracting the hour from placement time and cancellation time on both datasets\n",
        "df1['placement_time'] = pd.to_datetime(df1['placement_time'], format='%H:%M:%S').dt.hour\n",
        "df1['cancellation_time'] = pd.to_datetime(df1['cancellation_time'], format='%H:%M:%S').dt.hour\n",
        "\n",
        "df2['placement_time'] = pd.to_datetime(df2['placement_time'], format='%H:%M:%S').dt.hour\n",
        "df2['cancellation_time'] = pd.to_datetime(df2['cancellation_time'], format='%H:%M:%S').dt.hour"
      ],
      "execution_count": null,
      "outputs": []
    },
    {
      "cell_type": "code",
      "metadata": {
        "id": "RzBCNkBjtGz_"
      },
      "source": [
        "#Changing the data types to appropriate data types\n",
        "df1['placement_day'] = df1['placement_day'].astype('object')\n",
        "df1['cancellation_day'] = df1['cancellation_day'].astype('object')\n",
        "df1['placement_time'] = df1['placement_time'].astype('object')\n",
        "df1['cancellation_time'] = df1['cancellation_time'].astype('object')\n",
        "\n",
        "#Doing the same for the other dataset\n",
        "df2['placement_day'] = df2['placement_day'].astype('object')\n",
        "df2['cancellation_day'] = df2['cancellation_day'].astype('object')\n",
        "df2['cancel_reason'] = df2['cancel_reason'].astype('object')\n",
        "df2['placement_time'] = df2['placement_time'].astype('object')\n",
        "df2['cancellation_time'] = df2['cancellation_time'].astype('object')"
      ],
      "execution_count": null,
      "outputs": []
    },
    {
      "cell_type": "code",
      "metadata": {
        "colab": {
          "base_uri": "https://localhost:8080/"
        },
        "id": "imC67VgDvQHz",
        "outputId": "bcfb27b8-6168-4704-cdfe-cf5556401da2"
      },
      "source": [
        "#Checking the general information of the clean datasets\n",
        "print(df1.info())\n",
        "print(\"\\n\")\n",
        "print(df2.info())"
      ],
      "execution_count": null,
      "outputs": [
        {
          "output_type": "stream",
          "text": [
            "<class 'pandas.core.frame.DataFrame'>\n",
            "Int64Index: 6393 entries, 0 to 6397\n",
            "Data columns (total 14 columns):\n",
            " #   Column                Non-Null Count  Dtype  \n",
            "---  ------                --------------  -----  \n",
            " 0   personal_or_business  6393 non-null   object \n",
            " 1   vehicle_type          6393 non-null   object \n",
            " 2   standard_or_express   6393 non-null   object \n",
            " 3   platform              6393 non-null   object \n",
            " 4   cancel_reason         6393 non-null   object \n",
            " 5   cancelled_by          6393 non-null   object \n",
            " 6   placement_day         6393 non-null   object \n",
            " 7   placement_time        6393 non-null   object \n",
            " 8   cancellation_day      6393 non-null   object \n",
            " 9   cancellation_time     6393 non-null   object \n",
            " 10  distance_(km)         6393 non-null   int64  \n",
            " 11  pickup_lat            6393 non-null   float64\n",
            " 12  pickup_long           6393 non-null   float64\n",
            " 13  scheduled             6393 non-null   object \n",
            "dtypes: float64(2), int64(1), object(11)\n",
            "memory usage: 749.2+ KB\n",
            "None\n",
            "\n",
            "\n",
            "<class 'pandas.core.frame.DataFrame'>\n",
            "RangeIndex: 329 entries, 0 to 328\n",
            "Data columns (total 14 columns):\n",
            " #   Column                Non-Null Count  Dtype  \n",
            "---  ------                --------------  -----  \n",
            " 0   personal_or_business  329 non-null    object \n",
            " 1   vehicle_type          329 non-null    object \n",
            " 2   standard_or_express   329 non-null    object \n",
            " 3   platform              329 non-null    object \n",
            " 4   cancel_reason         0 non-null      object \n",
            " 5   cancelled_by          329 non-null    object \n",
            " 6   placement_day         329 non-null    object \n",
            " 7   placement_time        329 non-null    object \n",
            " 8   cancellation_day      329 non-null    object \n",
            " 9   cancellation_time     329 non-null    object \n",
            " 10  distance_(km)         329 non-null    int64  \n",
            " 11  pickup_lat            329 non-null    float64\n",
            " 12  pickup_long           329 non-null    float64\n",
            " 13  scheduled             329 non-null    object \n",
            "dtypes: float64(2), int64(1), object(11)\n",
            "memory usage: 36.1+ KB\n",
            "None\n"
          ],
          "name": "stdout"
        }
      ]
    },
    {
      "cell_type": "markdown",
      "metadata": {
        "id": "M73hs2B_viPG"
      },
      "source": [
        "The final datasets have 14 columns each. The main dataset has 6393 entries and the other dataset with missing cancel reason has 329 entries.\n",
        "\n",
        "The datasets are now clean and ready for analysis and predictions."
      ]
    },
    {
      "cell_type": "markdown",
      "metadata": {
        "id": "giJKMSlzHVsE"
      },
      "source": [
        "## 6. Exploratory Data Analysis"
      ]
    },
    {
      "cell_type": "markdown",
      "metadata": {
        "id": "EvR1TVnV9alp"
      },
      "source": [
        "\n",
        "This section entails answers for the first question which requires one to analyse the order cancellations using the dataset and visualize the most important aspects.\n",
        "\n",
        "The following steps were performed in order to analyse the order cancellations:\n",
        "* Univariate Analysis\n",
        "* Bivariate Analysis"
      ]
    },
    {
      "cell_type": "markdown",
      "metadata": {
        "id": "u-omKaDnrDdH"
      },
      "source": [
        "### a.) Univariate Analysis"
      ]
    },
    {
      "cell_type": "markdown",
      "metadata": {
        "id": "XS2BJygAzqa_"
      },
      "source": [
        "We'll perform analysis of single features using statistical descriptions, histograms, countplots, frequency tables and pie charts.\n",
        "\n",
        "This analysis will purely be of individual variables."
      ]
    },
    {
      "cell_type": "markdown",
      "metadata": {
        "id": "-u_ztWVl0oF3"
      },
      "source": [
        "#### i.) Statistical Description\n",
        "This will show the measures of central tendency of the numerical variables i.e. the mean, mode and median. It will also show some measures of dispersion i.e. the standard deviation and the qartiles."
      ]
    },
    {
      "cell_type": "code",
      "metadata": {
        "id": "Z4wB-5E0NQXg",
        "colab": {
          "base_uri": "https://localhost:8080/",
          "height": 287
        },
        "outputId": "159626fa-81df-4682-ba45-45e125aea81c"
      },
      "source": [
        "#Checking statistical descriptions of the numerical features in the dataset\n",
        "df1.describe()"
      ],
      "execution_count": null,
      "outputs": [
        {
          "output_type": "execute_result",
          "data": {
            "text/html": [
              "<div>\n",
              "<style scoped>\n",
              "    .dataframe tbody tr th:only-of-type {\n",
              "        vertical-align: middle;\n",
              "    }\n",
              "\n",
              "    .dataframe tbody tr th {\n",
              "        vertical-align: top;\n",
              "    }\n",
              "\n",
              "    .dataframe thead th {\n",
              "        text-align: right;\n",
              "    }\n",
              "</style>\n",
              "<table border=\"1\" class=\"dataframe\">\n",
              "  <thead>\n",
              "    <tr style=\"text-align: right;\">\n",
              "      <th></th>\n",
              "      <th>distance_(km)</th>\n",
              "      <th>pickup_lat</th>\n",
              "      <th>pickup_long</th>\n",
              "    </tr>\n",
              "  </thead>\n",
              "  <tbody>\n",
              "    <tr>\n",
              "      <th>count</th>\n",
              "      <td>6393.000000</td>\n",
              "      <td>6393.000000</td>\n",
              "      <td>6393.000000</td>\n",
              "    </tr>\n",
              "    <tr>\n",
              "      <th>mean</th>\n",
              "      <td>13.930862</td>\n",
              "      <td>-1.287768</td>\n",
              "      <td>36.814969</td>\n",
              "    </tr>\n",
              "    <tr>\n",
              "      <th>std</th>\n",
              "      <td>45.310560</td>\n",
              "      <td>0.067094</td>\n",
              "      <td>0.113884</td>\n",
              "    </tr>\n",
              "    <tr>\n",
              "      <th>min</th>\n",
              "      <td>0.000000</td>\n",
              "      <td>-2.390920</td>\n",
              "      <td>32.628902</td>\n",
              "    </tr>\n",
              "    <tr>\n",
              "      <th>25%</th>\n",
              "      <td>5.000000</td>\n",
              "      <td>-1.315811</td>\n",
              "      <td>36.786055</td>\n",
              "    </tr>\n",
              "    <tr>\n",
              "      <th>50%</th>\n",
              "      <td>9.000000</td>\n",
              "      <td>-1.291188</td>\n",
              "      <td>36.813105</td>\n",
              "    </tr>\n",
              "    <tr>\n",
              "      <th>75%</th>\n",
              "      <td>16.000000</td>\n",
              "      <td>-1.263937</td>\n",
              "      <td>36.843238</td>\n",
              "    </tr>\n",
              "    <tr>\n",
              "      <th>max</th>\n",
              "      <td>2061.000000</td>\n",
              "      <td>0.551064</td>\n",
              "      <td>40.689788</td>\n",
              "    </tr>\n",
              "  </tbody>\n",
              "</table>\n",
              "</div>"
            ],
            "text/plain": [
              "       distance_(km)   pickup_lat  pickup_long\n",
              "count    6393.000000  6393.000000  6393.000000\n",
              "mean       13.930862    -1.287768    36.814969\n",
              "std        45.310560     0.067094     0.113884\n",
              "min         0.000000    -2.390920    32.628902\n",
              "25%         5.000000    -1.315811    36.786055\n",
              "50%         9.000000    -1.291188    36.813105\n",
              "75%        16.000000    -1.263937    36.843238\n",
              "max      2061.000000     0.551064    40.689788"
            ]
          },
          "metadata": {
            "tags": []
          },
          "execution_count": 33
        }
      ]
    },
    {
      "cell_type": "markdown",
      "metadata": {
        "id": "sPfsjtZ7UZfL"
      },
      "source": [
        "The table above shows the measures of central tendency of the numerical features i.e. distance in km, pickup latitude and pickup longitude.\n",
        "\n",
        "The mean of the latitude is negative implying that the latitude has a lot of negative values. \n",
        "\n",
        "The maximum distance of the order from pick up to destination is 2061km while the least distance is 0km. The mean is 13.93km."
      ]
    },
    {
      "cell_type": "markdown",
      "metadata": {
        "id": "HwiEdOs6MlHm"
      },
      "source": [
        "#### ii.) Histograms\n",
        " This will represent the distribution of numerical data in the dataset."
      ]
    },
    {
      "cell_type": "code",
      "metadata": {
        "id": "U0M868TYNUmx",
        "colab": {
          "base_uri": "https://localhost:8080/",
          "height": 787
        },
        "outputId": "e0e6f3aa-84f7-40fc-cfe3-a489c3343f68"
      },
      "source": [
        "#Plotting the numerical variables on histograms to view their distributions.\n",
        "df1.hist(bins=2, figsize=(12,12))\n",
        "plt.suptitle(\"Histogram of numeric variables\")\n",
        "plt.savefig('.... Histogram')\n",
        "plt.show()"
      ],
      "execution_count": null,
      "outputs": [
        {
          "output_type": "display_data",
          "data": {
            "image/png": "[encoded data removed]",
            "text/plain": [
              "<Figure size 864x864 with 4 Axes>"
            ]
          },
          "metadata": {
            "tags": [],
            "needs_background": "light"
          }
        }
      ]
    },
    {
      "cell_type": "markdown",
      "metadata": {
        "id": "6gqeIV1TY8HK"
      },
      "source": [
        "The histograms above follows a very uniform pattern as every bar is almost exactly the same height. This indicates the data is very consistent; the frequency of the classes in each numerical variable is very similar to that of the others. "
      ]
    },
    {
      "cell_type": "markdown",
      "metadata": {
        "id": "LNCuZJnX0vnT"
      },
      "source": [
        "#### iii.) Countplots\n",
        "The countplots will show the counts of observations in each categorical bin using bars."
      ]
    },
    {
      "cell_type": "code",
      "metadata": {
        "colab": {
          "base_uri": "https://localhost:8080/",
          "height": 507
        },
        "id": "4Y0t5Urxpu_d",
        "outputId": "7cea1d8b-e641-4411-b219-050c540c435e"
      },
      "source": [
        "#Plotting the barplot of the cancel reasons\n",
        "df1['cancel_reason'].value_counts().plot.bar(title='Frequency of cancel reason')"
      ],
      "execution_count": null,
      "outputs": [
        {
          "output_type": "execute_result",
          "data": {
            "text/plain": [
              "<matplotlib.axes._subplots.AxesSubplot at 0x7fe7ddbf5438>"
            ]
          },
          "metadata": {
            "tags": []
          },
          "execution_count": 35
        },
        {
          "output_type": "display_data",
          "data": {
            "image/png": "[encoded data removed]",
            "text/plain": [
              "<Figure size 432x288 with 1 Axes>"
            ]
          },
          "metadata": {
            "tags": [],
            "needs_background": "light"
          }
        }
      ]
    },
    {
      "cell_type": "markdown",
      "metadata": {
        "id": "gOph-7SqcaZb"
      },
      "source": [
        "The most popular reason as to why orders were cancelled is because there was 'no driver allocated to my request'\n",
        "\n",
        "The second was 'No partner' followed by 'My driver is not ready', then 'I placed the wrong location', then 'The driver is too far away' and 'Customer error'\n",
        "\n",
        "The least popular reason as to why an order was canceled is 'Delay'"
      ]
    },
    {
      "cell_type": "code",
      "metadata": {
        "colab": {
          "base_uri": "https://localhost:8080/",
          "height": 410
        },
        "id": "1Oku0g9y4T2S",
        "outputId": "c6f606f0-6593-49d7-e204-83c567e62ce4"
      },
      "source": [
        "#Ploting the count of personal or business, standard or express and cancelled by\n",
        "fig, ax = plt.subplots(1,3, figsize=(18, 6))\n",
        "sns.countplot(df1['personal_or_business'], ax=ax[0])\n",
        "sns.countplot(df1['standard_or_express'], ax=ax[1])\n",
        "sns.countplot(df1['cancelled_by'], ax=ax[2])"
      ],
      "execution_count": null,
      "outputs": [
        {
          "output_type": "execute_result",
          "data": {
            "text/plain": [
              "<matplotlib.axes._subplots.AxesSubplot at 0x7fe7dd6bfe48>"
            ]
          },
          "metadata": {
            "tags": []
          },
          "execution_count": 36
        },
        {
          "output_type": "display_data",
          "data": {
            "image/png": "[encoded data removed]",
            "text/plain": [
              "<Figure size 1296x432 with 3 Axes>"
            ]
          },
          "metadata": {
            "tags": [],
            "needs_background": "light"
          }
        }
      ]
    },
    {
      "cell_type": "markdown",
      "metadata": {
        "id": "3sVrW1YzdXex"
      },
      "source": [
        "Most cancelled orders were personal.\n",
        "\n",
        "Most cancelled orders were Express i.e. the orders sent one at a time.\n",
        "\n",
        "Most orders were cancelled by the customer."
      ]
    },
    {
      "cell_type": "code",
      "metadata": {
        "colab": {
          "base_uri": "https://localhost:8080/",
          "height": 406
        },
        "id": "BEAxlXvit4Ny",
        "outputId": "9ff9805f-185d-458b-c072-ed1cb11d189e"
      },
      "source": [
        "#Plotting the count of the cancellation day and placement day\n",
        "fig, ax = plt.subplots(1,2, figsize=(18, 6))\n",
        "sns.countplot(df1['placement_day'], ax=ax[0])\n",
        "sns.countplot(df1['cancellation_day'], ax=ax[1])"
      ],
      "execution_count": null,
      "outputs": [
        {
          "output_type": "execute_result",
          "data": {
            "text/plain": [
              "<matplotlib.axes._subplots.AxesSubplot at 0x7fe7dd782c88>"
            ]
          },
          "metadata": {
            "tags": []
          },
          "execution_count": 37
        },
        {
          "output_type": "display_data",
          "data": {
            "image/png": "[encoded data removed]",
            "text/plain": [
              "<Figure size 1296x432 with 2 Axes>"
            ]
          },
          "metadata": {
            "tags": [],
            "needs_background": "light"
          }
        }
      ]
    },
    {
      "cell_type": "markdown",
      "metadata": {
        "id": "vkEvXckRd86d"
      },
      "source": [
        "Most cancelled orders were placed on Friday with Sunday having the least amount of orders placed.\n",
        "\n",
        "Most cancelled orders were cancelled on Friday with Sunday being the day with the least cancellations."
      ]
    },
    {
      "cell_type": "code",
      "metadata": {
        "colab": {
          "base_uri": "https://localhost:8080/",
          "height": 406
        },
        "id": "Wvy9imn0-ELb",
        "outputId": "af782107-7428-4e2e-8009-0a61d4c9673f"
      },
      "source": [
        "#Plotting the count of placement_time and cancellation time\n",
        "fig, ax = plt.subplots(1,2, figsize=(20, 6))\n",
        "sns.countplot(df1['placement_time'], ax=ax[0])\n",
        "sns.countplot(df1['cancellation_time'], ax=ax[1])"
      ],
      "execution_count": null,
      "outputs": [
        {
          "output_type": "execute_result",
          "data": {
            "text/plain": [
              "<matplotlib.axes._subplots.AxesSubplot at 0x7fe7dc467a20>"
            ]
          },
          "metadata": {
            "tags": []
          },
          "execution_count": 38
        },
        {
          "output_type": "display_data",
          "data": {
            "image/png": "[encoded data removed]",
            "text/plain": [
              "<Figure size 1440x432 with 2 Axes>"
            ]
          },
          "metadata": {
            "tags": [],
            "needs_background": "light"
          }
        }
      ]
    },
    {
      "cell_type": "markdown",
      "metadata": {
        "id": "vNTkIpoZeblI"
      },
      "source": [
        "Most cancelled orders were placed at 1500 hrs followed by 1100 hrs. The placement time with the least cancelled orders was between 0000hrs and 0700hrs.\n",
        "\n",
        "Most cancelled orders were cancelled at 1500 hrs followed by 1600 hrs and 1200 hrs. The time with the least cancellation was between 2000hrs and 0700hrs. However at 0300 hrs there seems to be a lot of order cancellations."
      ]
    },
    {
      "cell_type": "markdown",
      "metadata": {
        "id": "mDK1iFnA-q-G"
      },
      "source": [
        "#### iv.) Frequency table\n",
        "The frequency tables will show the number of observation in variables with extremely low counts compared to others."
      ]
    },
    {
      "cell_type": "code",
      "metadata": {
        "colab": {
          "base_uri": "https://localhost:8080/"
        },
        "id": "GGDrEhN4qd6B",
        "outputId": "a4ebb768-4254-4217-fa17-dc93a3500249"
      },
      "source": [
        "#Plotting a frequency table for the vehicle type, platform and scheduled\n",
        "print(df1['vehicle_type'].value_counts())\n",
        "print(\"\\n\")\n",
        "print(df1['platform'].value_counts())\n",
        "print(\"\\n\")\n",
        "print(df1['scheduled'].value_counts())"
      ],
      "execution_count": null,
      "outputs": [
        {
          "output_type": "stream",
          "text": [
            "Bike             6385\n",
            "Standard Bike       8\n",
            "Name: vehicle_type, dtype: int64\n",
            "\n",
            "\n",
            "android     2742\n",
            "desktop     2382\n",
            "ios          796\n",
            "API          472\n",
            "peer_web       1\n",
            "Name: platform, dtype: int64\n",
            "\n",
            "\n",
            "OnDemAND     6146\n",
            "Scheduled     247\n",
            "Name: scheduled, dtype: int64\n"
          ],
          "name": "stdout"
        }
      ]
    },
    {
      "cell_type": "markdown",
      "metadata": {
        "id": "ofcJP1yQfyDV"
      },
      "source": [
        "Almost all of the cancelled orders were serviced by a bike with only 8 cancelled orders serviced by a Standard Bike.\n",
        "\n",
        "A lot of cancelled orders were placed using an android followed by desktop, then ios, then API and finally peer_web with only 1 cancellation.\n",
        "\n",
        "Most scheduled orders were cancelled and very few on demand orders were canceled."
      ]
    },
    {
      "cell_type": "markdown",
      "metadata": {
        "id": "n6IcpzOWGIjy"
      },
      "source": [
        "#### v.) Pie Charts\n",
        "The pie charts will create a better visualization of the above variables."
      ]
    },
    {
      "cell_type": "code",
      "metadata": {
        "colab": {
          "base_uri": "https://localhost:8080/",
          "height": 265
        },
        "id": "3WAOeoo7buAt",
        "outputId": "4a4d4baa-e718-40af-f9b3-847c3918543a"
      },
      "source": [
        "#Plotting a piechart to show the proportion of the vehicle type thats serviced the order\n",
        "df1['vehicle_type'].value_counts().plot.pie()"
      ],
      "execution_count": null,
      "outputs": [
        {
          "output_type": "execute_result",
          "data": {
            "text/plain": [
              "<matplotlib.axes._subplots.AxesSubplot at 0x7fe7dc46d898>"
            ]
          },
          "metadata": {
            "tags": []
          },
          "execution_count": 40
        },
        {
          "output_type": "display_data",
          "data": {
            "image/png": "[encoded data removed]",
            "text/plain": [
              "<Figure size 432x288 with 1 Axes>"
            ]
          },
          "metadata": {
            "tags": []
          }
        }
      ]
    },
    {
      "cell_type": "code",
      "metadata": {
        "colab": {
          "base_uri": "https://localhost:8080/",
          "height": 265
        },
        "id": "gRhBFVu6Dq3J",
        "outputId": "21904902-1425-479c-aad9-95d9631c636d"
      },
      "source": [
        "#Plotting a piechart to show the proportion of the platform used to place an order\n",
        "df1['platform'].value_counts().plot.pie()"
      ],
      "execution_count": null,
      "outputs": [
        {
          "output_type": "execute_result",
          "data": {
            "text/plain": [
              "<matplotlib.axes._subplots.AxesSubplot at 0x7fe7dd72a7b8>"
            ]
          },
          "metadata": {
            "tags": []
          },
          "execution_count": 41
        },
        {
          "output_type": "display_data",
          "data": {
            "image/png": "[encoded data removed]",
            "text/plain": [
              "<Figure size 432x288 with 1 Axes>"
            ]
          },
          "metadata": {
            "tags": []
          }
        }
      ]
    },
    {
      "cell_type": "code",
      "metadata": {
        "colab": {
          "base_uri": "https://localhost:8080/",
          "height": 265
        },
        "id": "wmLboe6IGOPG",
        "outputId": "5a2fb59c-5666-4681-c302-da411ea6c1e8"
      },
      "source": [
        "#Plotting a piechart to show the proportion of schedule and ondemand orders\n",
        "df1['scheduled'].value_counts().plot.pie()"
      ],
      "execution_count": null,
      "outputs": [
        {
          "output_type": "execute_result",
          "data": {
            "text/plain": [
              "<matplotlib.axes._subplots.AxesSubplot at 0x7fe7dc93ad68>"
            ]
          },
          "metadata": {
            "tags": []
          },
          "execution_count": 42
        },
        {
          "output_type": "display_data",
          "data": {
            "image/png": "[encoded data removed]",
            "text/plain": [
              "<Figure size 432x288 with 1 Axes>"
            ]
          },
          "metadata": {
            "tags": []
          }
        }
      ]
    },
    {
      "cell_type": "markdown",
      "metadata": {
        "id": "mK2TvKYCvixx"
      },
      "source": [
        "#### vi.) Summary"
      ]
    },
    {
      "cell_type": "markdown",
      "metadata": {
        "id": "AEwD9MWWcSCz"
      },
      "source": [
        "The following is a summary of the above univariate analysis:\n",
        "* The numerical variables possess a uniform distribution.\n",
        "* The latitude variable contains a lot of negative values.\n",
        "* The most common reason as to why orders were cancelled is because there was 'no driver allocated to my request' and the least popular reason is 'Delay'\n",
        "* Most cancelled orders were business orders.\n",
        "* Most cancelled orders were Express i.e. the orders sent one at a time.\n",
        "* Most orders were cancelled by the customer.\n",
        "* Most cancelled orders were placed on Friday with Sunday having the least amount of cancelled orders placed.\n",
        "* Most cancelled orders were cancelled on Friday with Sunday being the day with the least cancellations.\n",
        "* Most cancelled orders were placed at 1500 hrs and the least cancelled orders was between 0000hrs and 0700hrs.\n",
        "* Most cancelled orders were cancelled at 1500 hrs. The time with the least cancellation was between 2000hrs and 0200hrs.\n",
        "* Almost all of the cancelled orders were serviced by a bike.\n",
        "* A lot of cancelled orders were placed using an andriod.\n",
        "* Most cancelled orders were scheduled orders."
      ]
    },
    {
      "cell_type": "markdown",
      "metadata": {
        "id": "HW9CBwqePL45"
      },
      "source": [
        "### b.) Bivariate Analysis"
      ]
    },
    {
      "cell_type": "markdown",
      "metadata": {
        "id": "AKdX8W-gk2H8"
      },
      "source": [
        "We'll perform bivariate analysis i.e. analysis of two variables in order to understand the relationship between the variables."
      ]
    },
    {
      "cell_type": "markdown",
      "metadata": {
        "id": "Hcd9j1vBmE2p"
      },
      "source": [
        "#### i.) Catplots\n",
        "These will show the frequencies of the categories of the cancel reason variables e.g the frequency of the reasons for a cancellation order on a particular day."
      ]
    },
    {
      "cell_type": "code",
      "metadata": {
        "colab": {
          "base_uri": "https://localhost:8080/",
          "height": 448
        },
        "id": "Vu_nTsOywakO",
        "outputId": "aa8806ec-1ea7-4a92-81e3-0982ae500a44"
      },
      "source": [
        "#Plotting a catplot to understand the relationship between cancellation day and cancel reason\n",
        "g = sns.catplot(x=\"cancellation_day\", hue=\"cancel_reason\", kind=\"count\", palette=\"muted\", data=df1)\n",
        "g.fig.set_figwidth(20)\n",
        "g.fig.set_figheight(6)"
      ],
      "execution_count": null,
      "outputs": [
        {
          "output_type": "display_data",
          "data": {
            "image/png": "[encoded data removed]",
            "text/plain": [
              "<Figure size 1440x432 with 1 Axes>"
            ]
          },
          "metadata": {
            "tags": [],
            "needs_background": "light"
          }
        }
      ]
    },
    {
      "cell_type": "markdown",
      "metadata": {
        "id": "N9X5DRGnnV5_"
      },
      "source": [
        "* From the Univariate analysis, most orders were cancelled on Day 5(Friday). This catplot shows that the most popular reason as to why orders were cancelled on Day5(Friday) is that 'No driver has been allocated to my request'. The second most popular reason is 'My order is not ready'.\n",
        "* Day7(Sunday),with the least cancellations, still shows the most popular reason for cancellation is 'No driver has been allocated to my request'. \n",
        "* In as much as Delay is the least cited reason for cancellation, Day7(Sunday) has no delay but delay is a common reason during all the other days. It is however relatively low on Day2(Tuesday)\n",
        "* Customer error is high on Fridays compared to other days.\n",
        "* No partner is a common reason for cancellation on Friday compared to the other days.\n",
        "* The driver is too far away is a higher reason for cancellation on Thursdays compared to other days.\n",
        "* Customers place the wrong locations regardless of the day.\n"
      ]
    },
    {
      "cell_type": "markdown",
      "metadata": {
        "id": "m_TLQQmL5FQi"
      },
      "source": [
        "We'll create a column to show whether the order was cancelled the same day it was placed or not. We'll find the difference between the placement day and cancellation day and if the difference is 0 we'll allocate same day cancellation but if the difference is not 0 we'll allocate other day cancellation. This will help understand whether the cancel reasons were different on orders cancelledon the same day they were placed or other day cancellations."
      ]
    },
    {
      "cell_type": "code",
      "metadata": {
        "colab": {
          "base_uri": "https://localhost:8080/"
        },
        "id": "v3uXMWh6uto4",
        "outputId": "5218adee-dccd-4efc-d18d-3e52239c6b66"
      },
      "source": [
        "#Creating a day column to indicate the difference of cancellation day and placement day\n",
        "df1['day'] = df1['cancellation_day'] - df1['placement_day']\n",
        "print(df1['day'].unique())"
      ],
      "execution_count": null,
      "outputs": [
        {
          "output_type": "stream",
          "text": [
            "[0 1 2 4 3 6 5 -1 -3 -4 -5 -6]\n"
          ],
          "name": "stdout"
        }
      ]
    },
    {
      "cell_type": "code",
      "metadata": {
        "colab": {
          "base_uri": "https://localhost:8080/",
          "height": 317
        },
        "id": "-QY3r3COuSZi",
        "outputId": "5ad5ab38-48fb-4cea-bb4a-ccdbb6380115"
      },
      "source": [
        "#Defining a function that will allocate the delivery same day or other day\n",
        "def order_delay(day):\n",
        "    if day == 0:\n",
        "        return 'Same Day'\n",
        "    else:\n",
        "        return 'Other Day'\n",
        "#Calling the function\n",
        "df1['cancelled'] = df1.day.apply(lambda i: order_delay(i))\n",
        "df1.head(5)"
      ],
      "execution_count": null,
      "outputs": [
        {
          "output_type": "execute_result",
          "data": {
            "text/html": [
              "<div>\n",
              "<style scoped>\n",
              "    .dataframe tbody tr th:only-of-type {\n",
              "        vertical-align: middle;\n",
              "    }\n",
              "\n",
              "    .dataframe tbody tr th {\n",
              "        vertical-align: top;\n",
              "    }\n",
              "\n",
              "    .dataframe thead th {\n",
              "        text-align: right;\n",
              "    }\n",
              "</style>\n",
              "<table border=\"1\" class=\"dataframe\">\n",
              "  <thead>\n",
              "    <tr style=\"text-align: right;\">\n",
              "      <th></th>\n",
              "      <th>personal_or_business</th>\n",
              "      <th>vehicle_type</th>\n",
              "      <th>standard_or_express</th>\n",
              "      <th>platform</th>\n",
              "      <th>cancel_reason</th>\n",
              "      <th>cancelled_by</th>\n",
              "      <th>placement_day</th>\n",
              "      <th>placement_time</th>\n",
              "      <th>cancellation_day</th>\n",
              "      <th>cancellation_time</th>\n",
              "      <th>distance_(km)</th>\n",
              "      <th>pickup_lat</th>\n",
              "      <th>pickup_long</th>\n",
              "      <th>scheduled</th>\n",
              "      <th>day</th>\n",
              "      <th>cancelled</th>\n",
              "    </tr>\n",
              "  </thead>\n",
              "  <tbody>\n",
              "    <tr>\n",
              "      <th>0</th>\n",
              "      <td>Personal</td>\n",
              "      <td>Bike</td>\n",
              "      <td>Express</td>\n",
              "      <td>android</td>\n",
              "      <td>No driver has been allocated to my request.</td>\n",
              "      <td>Customer</td>\n",
              "      <td>1</td>\n",
              "      <td>17</td>\n",
              "      <td>1</td>\n",
              "      <td>17</td>\n",
              "      <td>9</td>\n",
              "      <td>-1.313053</td>\n",
              "      <td>36.841437</td>\n",
              "      <td>OnDemAND</td>\n",
              "      <td>0</td>\n",
              "      <td>Same Day</td>\n",
              "    </tr>\n",
              "    <tr>\n",
              "      <th>1</th>\n",
              "      <td>Personal</td>\n",
              "      <td>Bike</td>\n",
              "      <td>Express</td>\n",
              "      <td>android</td>\n",
              "      <td>My order is not ready.</td>\n",
              "      <td>Customer</td>\n",
              "      <td>1</td>\n",
              "      <td>12</td>\n",
              "      <td>1</td>\n",
              "      <td>12</td>\n",
              "      <td>14</td>\n",
              "      <td>-1.318959</td>\n",
              "      <td>36.853394</td>\n",
              "      <td>OnDemAND</td>\n",
              "      <td>0</td>\n",
              "      <td>Same Day</td>\n",
              "    </tr>\n",
              "    <tr>\n",
              "      <th>2</th>\n",
              "      <td>Business</td>\n",
              "      <td>Bike</td>\n",
              "      <td>Express</td>\n",
              "      <td>android</td>\n",
              "      <td>I placed the wrong locations.</td>\n",
              "      <td>Customer</td>\n",
              "      <td>1</td>\n",
              "      <td>13</td>\n",
              "      <td>1</td>\n",
              "      <td>13</td>\n",
              "      <td>16</td>\n",
              "      <td>-1.313854</td>\n",
              "      <td>36.706867</td>\n",
              "      <td>OnDemAND</td>\n",
              "      <td>0</td>\n",
              "      <td>Same Day</td>\n",
              "    </tr>\n",
              "    <tr>\n",
              "      <th>3</th>\n",
              "      <td>Personal</td>\n",
              "      <td>Bike</td>\n",
              "      <td>Express</td>\n",
              "      <td>android</td>\n",
              "      <td>My order is not ready.</td>\n",
              "      <td>Customer</td>\n",
              "      <td>1</td>\n",
              "      <td>10</td>\n",
              "      <td>1</td>\n",
              "      <td>10</td>\n",
              "      <td>20</td>\n",
              "      <td>-1.206197</td>\n",
              "      <td>36.778776</td>\n",
              "      <td>OnDemAND</td>\n",
              "      <td>0</td>\n",
              "      <td>Same Day</td>\n",
              "    </tr>\n",
              "    <tr>\n",
              "      <th>4</th>\n",
              "      <td>Personal</td>\n",
              "      <td>Bike</td>\n",
              "      <td>Standard</td>\n",
              "      <td>ios</td>\n",
              "      <td>No Partner</td>\n",
              "      <td>Staff</td>\n",
              "      <td>1</td>\n",
              "      <td>14</td>\n",
              "      <td>1</td>\n",
              "      <td>15</td>\n",
              "      <td>11</td>\n",
              "      <td>-1.296958</td>\n",
              "      <td>36.808166</td>\n",
              "      <td>OnDemAND</td>\n",
              "      <td>0</td>\n",
              "      <td>Same Day</td>\n",
              "    </tr>\n",
              "  </tbody>\n",
              "</table>\n",
              "</div>"
            ],
            "text/plain": [
              "  personal_or_business vehicle_type standard_or_express  ... scheduled day cancelled\n",
              "0             Personal         Bike             Express  ...  OnDemAND   0  Same Day\n",
              "1             Personal         Bike             Express  ...  OnDemAND   0  Same Day\n",
              "2             Business         Bike             Express  ...  OnDemAND   0  Same Day\n",
              "3             Personal         Bike             Express  ...  OnDemAND   0  Same Day\n",
              "4             Personal         Bike            Standard  ...  OnDemAND   0  Same Day\n",
              "\n",
              "[5 rows x 16 columns]"
            ]
          },
          "metadata": {
            "tags": []
          },
          "execution_count": 103
        }
      ]
    },
    {
      "cell_type": "code",
      "metadata": {
        "colab": {
          "base_uri": "https://localhost:8080/"
        },
        "id": "8LzZ2iPywplK",
        "outputId": "46e3e534-a719-4448-c5be-cbe7828f0b18"
      },
      "source": [
        "#Checking the number of observations of same day cancellation and other day cancellation using a frequency table\n",
        "df1['cancelled'].value_counts()"
      ],
      "execution_count": null,
      "outputs": [
        {
          "output_type": "execute_result",
          "data": {
            "text/plain": [
              "Same Day     5943\n",
              "Other Day     450\n",
              "Name: cancelled, dtype: int64"
            ]
          },
          "metadata": {
            "tags": []
          },
          "execution_count": 46
        }
      ]
    },
    {
      "cell_type": "code",
      "metadata": {
        "colab": {
          "base_uri": "https://localhost:8080/",
          "height": 448
        },
        "id": "-j2pvRMBwR1D",
        "outputId": "120fa772-91a3-4b43-8155-fec23c2f124e"
      },
      "source": [
        "#Plotting a catplot to understand the relationship between the same day or other day cancellation and the cancel reason.\n",
        "g = sns.catplot(x=\"cancelled\", hue=\"cancel_reason\", kind=\"count\", palette=\"muted\", data=df1)\n",
        "g.fig.set_figwidth(20)\n",
        "g.fig.set_figheight(6)"
      ],
      "execution_count": null,
      "outputs": [
        {
          "output_type": "display_data",
          "data": {
            "image/png": "[encoded data removed]",
            "text/plain": [
              "<Figure size 1440x432 with 1 Axes>"
            ]
          },
          "metadata": {
            "tags": [],
            "needs_background": "light"
          }
        }
      ]
    },
    {
      "cell_type": "markdown",
      "metadata": {
        "id": "NOa_TJlP6r5P"
      },
      "source": [
        "* Most orders were cancelled on the same day as they were placed with very few orders cancelled a day or more after placement.\n",
        "* The same day cancellations portray a similar pattern of cancel reasons i.e. the main reason for cancellation is no driver has been allocated to the request and the least reason being delay.\n",
        "* The other day cancellations have a different pattern. Here, orders were cancelled because there was no partner. However customer error is a common reason for cancellation unlike the same day cancellations where it was a not so common reason. "
      ]
    },
    {
      "cell_type": "code",
      "metadata": {
        "colab": {
          "base_uri": "https://localhost:8080/",
          "height": 448
        },
        "id": "8itSFIaz1GQh",
        "outputId": "a682f558-30cd-485d-f5b0-edc53c638e0c"
      },
      "source": [
        "#Plotting a catplot to understand the relationship between the type of business and cancel reason\n",
        "g = sns.catplot(x=\"personal_or_business\", hue=\"cancel_reason\", kind=\"count\", palette=\"muted\", data=df1)\n",
        "g.fig.set_figwidth(20)\n",
        "g.fig.set_figheight(6)"
      ],
      "execution_count": null,
      "outputs": [
        {
          "output_type": "display_data",
          "data": {
            "image/png": "[encoded data removed]",
            "text/plain": [
              "<Figure size 1440x432 with 1 Axes>"
            ]
          },
          "metadata": {
            "tags": [],
            "needs_background": "light"
          }
        }
      ]
    },
    {
      "cell_type": "markdown",
      "metadata": {
        "id": "ey97ghuD_DjU"
      },
      "source": [
        "* The main reason for order cancellation for personal orders is the common reason i.e. No driver has been allocated to my request.\n",
        "* However, the orders that were businesses portray a different reason. The most common reason being No Partner.\n",
        "* The driver is too far away is also a common reason for personal compared to business orders.\n",
        "* Delay remains to be the least common reason for cancellation for both personal and business orders."
      ]
    },
    {
      "cell_type": "code",
      "metadata": {
        "colab": {
          "base_uri": "https://localhost:8080/",
          "height": 448
        },
        "id": "ibfgBbXE1Vtq",
        "outputId": "bbd2cbb5-4afd-4860-dc03-fce28f7a4f05"
      },
      "source": [
        "#Plotting a catplot to understand the relationship between the type of order and cancel reason\n",
        "g = sns.catplot(x=\"standard_or_express\", hue=\"cancel_reason\", kind=\"count\", palette=\"muted\", data=df1)\n",
        "g.fig.set_figwidth(20)\n",
        "g.fig.set_figheight(6)"
      ],
      "execution_count": null,
      "outputs": [
        {
          "output_type": "display_data",
          "data": {
            "image/png": "[encoded data removed]",
            "text/plain": [
              "<Figure size 1440x432 with 1 Axes>"
            ]
          },
          "metadata": {
            "tags": [],
            "needs_background": "light"
          }
        }
      ]
    },
    {
      "cell_type": "markdown",
      "metadata": {
        "id": "12N19MeZCPN3"
      },
      "source": [
        "* The most common reason for both types of orders remains to be No driver has been allocated to my request and the least being delay.\n",
        "* No partner is the second most common reason for Standard orders i.e. multiple orders dispatched together.\n",
        "* My order is not ready is the second most common reason for cancellation on Express orders.\n",
        "* Delay is still the least common reason for cancellation."
      ]
    },
    {
      "cell_type": "code",
      "metadata": {
        "colab": {
          "base_uri": "https://localhost:8080/",
          "height": 447
        },
        "id": "mXrOuXzx1d6d",
        "outputId": "a977f438-c0bb-4ea9-874f-09bf9427b567"
      },
      "source": [
        "#Plotting a catplot to understand the relationship between the platform that the order was placed and cancel reason\n",
        "g = sns.catplot(x=\"platform\", hue=\"cancel_reason\", kind=\"count\", palette=\"muted\", data=df1)\n",
        "g.fig.set_figwidth(20)\n",
        "g.fig.set_figheight(6)"
      ],
      "execution_count": null,
      "outputs": [
        {
          "output_type": "display_data",
          "data": {
            "image/png": "[encoded data removed]",
            "text/plain": [
              "<Figure size 1440x432 with 1 Axes>"
            ]
          },
          "metadata": {
            "tags": [],
            "needs_background": "light"
          }
        }
      ]
    },
    {
      "cell_type": "markdown",
      "metadata": {
        "id": "g7xZj60zDUaZ"
      },
      "source": [
        "* For orders placed on android, ios and desktop platforms, the most common reason of cancellation is that No driver has been allocated to my request.\n",
        "* Orders placed on API had a different reason for cancellation i.e. No Partner followed by Customer error as the second most common reasons. The other reasons were few or non-existent.\n",
        "* Orders placed on the desktop platform also had very few citing The driver is too far away as their reason for cancellation.\n",
        "* There was only 1 order cancellation that was placed on peer web and the reason was I placed the wrong locations.\n",
        "* Orders placed on Android had a lot of cancellations citing the driver was too far away compared to the other platforms. "
      ]
    },
    {
      "cell_type": "code",
      "metadata": {
        "colab": {
          "base_uri": "https://localhost:8080/",
          "height": 448
        },
        "id": "Pkkiifhf1mdt",
        "outputId": "7dcef262-63ce-497d-f291-16412704718b"
      },
      "source": [
        "#Plotting a catplot to understand the relationship between the person who cancelled the order and the cancel reason \n",
        "g = sns.catplot(x=\"cancelled_by\", hue=\"cancel_reason\", kind=\"count\", palette=\"muted\", data=df1)\n",
        "g.fig.set_figwidth(20)\n",
        "g.fig.set_figheight(6)"
      ],
      "execution_count": null,
      "outputs": [
        {
          "output_type": "display_data",
          "data": {
            "image/png": "[encoded data removed]",
            "text/plain": [
              "<Figure size 1440x432 with 1 Axes>"
            ]
          },
          "metadata": {
            "tags": [],
            "needs_background": "light"
          }
        }
      ]
    },
    {
      "cell_type": "markdown",
      "metadata": {
        "id": "n2Cw0W_pGNa2"
      },
      "source": [
        "* Orders cancelled by a customer had No driver allocated to my request as the most common reason for cancellation.\n",
        "* Orders cancelled by a customer did not have the following reasons for cancellation; No partner, Customer error and Delay.\n",
        "* Orders cancelled by staff had No Partner as the most common reason for cancellation followed by Customer error and finally delay."
      ]
    },
    {
      "cell_type": "code",
      "metadata": {
        "colab": {
          "base_uri": "https://localhost:8080/",
          "height": 448
        },
        "id": "7t1o-iAl1xXR",
        "outputId": "f3037ff0-21b5-4694-9c90-6945ef1a6383"
      },
      "source": [
        "#Plotting a catplot to understand the relationship between scheduled or demand orders and cancel reason\n",
        "g = sns.catplot(x=\"scheduled\", hue=\"cancel_reason\", kind=\"count\", palette=\"muted\", data=df1)\n",
        "g.fig.set_figwidth(20)\n",
        "g.fig.set_figheight(6)"
      ],
      "execution_count": null,
      "outputs": [
        {
          "output_type": "display_data",
          "data": {
            "image/png": "[encoded data removed]",
            "text/plain": [
              "<Figure size 1440x432 with 1 Axes>"
            ]
          },
          "metadata": {
            "tags": [],
            "needs_background": "light"
          }
        }
      ]
    },
    {
      "cell_type": "markdown",
      "metadata": {
        "id": "A1RMlY_vIVPt"
      },
      "source": [
        "* Most onDemand orders were cancelled because No driver had been allocated to my order.\n",
        "* Scheduled orders were the least cancelled and the main reason for cancellation was no partner."
      ]
    },
    {
      "cell_type": "code",
      "metadata": {
        "colab": {
          "base_uri": "https://localhost:8080/",
          "height": 280
        },
        "id": "Md8lh6T53bIv",
        "outputId": "c9893acf-23da-4fae-c1e5-fab858aecb5e"
      },
      "source": [
        "#Plotting barplots to show the relationship between distance of the order from pick up to destination and the cancel reason\n",
        "sns.barplot(x= 'cancel_reason', y = 'distance_(km)', data = df1)\n",
        "fig.show()"
      ],
      "execution_count": null,
      "outputs": [
        {
          "output_type": "display_data",
          "data": {
            "image/png": "[encoded data removed]",
            "text/plain": [
              "<Figure size 432x288 with 1 Axes>"
            ]
          },
          "metadata": {
            "tags": [],
            "needs_background": "light"
          }
        }
      ]
    },
    {
      "cell_type": "markdown",
      "metadata": {
        "id": "2EkvwbMRJetR"
      },
      "source": [
        "* Most orders with a huge distance between the pick up and destination of the order were cancelled because The driver is too far away.\n",
        "* Delay as well is a more common reason when it  comes to distance as compared to other variables.\n",
        "* I placed the wrong location is also a relatively common reason when it comes to distance."
      ]
    },
    {
      "cell_type": "markdown",
      "metadata": {
        "id": "i8TiTXuuyWgK"
      },
      "source": [
        "#### ii.) Barplots\n",
        "These will show the relationship between a continous variable and two discrete variables."
      ]
    },
    {
      "cell_type": "code",
      "metadata": {
        "colab": {
          "base_uri": "https://localhost:8080/",
          "height": 297
        },
        "id": "u2DmJ4e7z2Mf",
        "outputId": "31a0f0e1-c899-49d6-f03e-e3ee86f24fa8"
      },
      "source": [
        "#Plotting a barplot to see the relationship between distance and the vehicle types.\n",
        "sns.barplot(x= 'vehicle_type', y = 'distance_(km)', data = df1)"
      ],
      "execution_count": null,
      "outputs": [
        {
          "output_type": "execute_result",
          "data": {
            "text/plain": [
              "<matplotlib.axes._subplots.AxesSubplot at 0x7fe7dcb5c748>"
            ]
          },
          "metadata": {
            "tags": []
          },
          "execution_count": 56
        },
        {
          "output_type": "display_data",
          "data": {
            "image/png": "[encoded data removed]",
            "text/plain": [
              "<Figure size 432x288 with 1 Axes>"
            ]
          },
          "metadata": {
            "tags": [],
            "needs_background": "light"
          }
        }
      ]
    },
    {
      "cell_type": "markdown",
      "metadata": {
        "id": "KKXzfS6XLTk9"
      },
      "source": [
        "In as much as the univariate analysis showed that there were only 8 standard bikes in the data, the distance travelled by the standard bikes is very high as opposed to the 6385 bikes."
      ]
    },
    {
      "cell_type": "code",
      "metadata": {
        "colab": {
          "base_uri": "https://localhost:8080/",
          "height": 297
        },
        "id": "_PAaBEbiyE2i",
        "outputId": "249c984a-8307-43ff-a7b5-06eba7fb583f"
      },
      "source": [
        "#Plotting a staked barplot to show the relationship between the distance, the two bikes and reason for order cancellation\n",
        "sns.barplot(x= 'vehicle_type', y = 'distance_(km)', data = df1, hue='cancel_reason')"
      ],
      "execution_count": null,
      "outputs": [
        {
          "output_type": "execute_result",
          "data": {
            "text/plain": [
              "<matplotlib.axes._subplots.AxesSubplot at 0x7fe7dda96828>"
            ]
          },
          "metadata": {
            "tags": []
          },
          "execution_count": 57
        },
        {
          "output_type": "display_data",
          "data": {
            "image/png": "[encoded data removed]",
            "text/plain": [
              "<Figure size 432x288 with 1 Axes>"
            ]
          },
          "metadata": {
            "tags": [],
            "needs_background": "light"
          }
        }
      ]
    },
    {
      "cell_type": "markdown",
      "metadata": {
        "id": "zQ8x3_fnMLfZ"
      },
      "source": [
        "* The bike's common cancellation reason is that the driver is too far away.\n",
        "* The standard bike's common cancellation reason is wrong locations. The driver being far is still a reason but not as much as the other variables.\n",
        "* Delay is a common reason for cancellation when using the bike.\n",
        "* Delay is not a reason for cancellation when the standard bike is used."
      ]
    },
    {
      "cell_type": "markdown",
      "metadata": {
        "id": "ZBUtcK1TMrzy"
      },
      "source": [
        "#### iii.) Correlation\n",
        "This will show the association of the random numeric variables"
      ]
    },
    {
      "cell_type": "code",
      "metadata": {
        "id": "HW38XtCtNB_l",
        "colab": {
          "base_uri": "https://localhost:8080/",
          "height": 137
        },
        "outputId": "c8dd5ccf-6abe-4e97-887b-888ba4670769"
      },
      "source": [
        "#Checking how our varibales are correlated using a matrix\n",
        "corrMatrix = df1.corr()\n",
        "corrMatrix"
      ],
      "execution_count": null,
      "outputs": [
        {
          "output_type": "execute_result",
          "data": {
            "text/html": [
              "<div>\n",
              "<style scoped>\n",
              "    .dataframe tbody tr th:only-of-type {\n",
              "        vertical-align: middle;\n",
              "    }\n",
              "\n",
              "    .dataframe tbody tr th {\n",
              "        vertical-align: top;\n",
              "    }\n",
              "\n",
              "    .dataframe thead th {\n",
              "        text-align: right;\n",
              "    }\n",
              "</style>\n",
              "<table border=\"1\" class=\"dataframe\">\n",
              "  <thead>\n",
              "    <tr style=\"text-align: right;\">\n",
              "      <th></th>\n",
              "      <th>distance_(km)</th>\n",
              "      <th>pickup_lat</th>\n",
              "      <th>pickup_long</th>\n",
              "    </tr>\n",
              "  </thead>\n",
              "  <tbody>\n",
              "    <tr>\n",
              "      <th>distance_(km)</th>\n",
              "      <td>1.000000</td>\n",
              "      <td>0.032725</td>\n",
              "      <td>-0.014479</td>\n",
              "    </tr>\n",
              "    <tr>\n",
              "      <th>pickup_lat</th>\n",
              "      <td>0.032725</td>\n",
              "      <td>1.000000</td>\n",
              "      <td>-0.626917</td>\n",
              "    </tr>\n",
              "    <tr>\n",
              "      <th>pickup_long</th>\n",
              "      <td>-0.014479</td>\n",
              "      <td>-0.626917</td>\n",
              "      <td>1.000000</td>\n",
              "    </tr>\n",
              "  </tbody>\n",
              "</table>\n",
              "</div>"
            ],
            "text/plain": [
              "               distance_(km)  pickup_lat  pickup_long\n",
              "distance_(km)       1.000000    0.032725    -0.014479\n",
              "pickup_lat          0.032725    1.000000    -0.626917\n",
              "pickup_long        -0.014479   -0.626917     1.000000"
            ]
          },
          "metadata": {
            "tags": []
          },
          "execution_count": 58
        }
      ]
    },
    {
      "cell_type": "code",
      "metadata": {
        "id": "i95o8zqaNIJN",
        "colab": {
          "base_uri": "https://localhost:8080/",
          "height": 396
        },
        "outputId": "ca7e82bc-0ed9-4729-be00-80f1f2c67ba8"
      },
      "source": [
        "#Plotting visualization of the correlation matrix for better clarity \n",
        "plt.figure(figsize=(6, 6))  \n",
        "sns.heatmap(corrMatrix, annot = True)"
      ],
      "execution_count": null,
      "outputs": [
        {
          "output_type": "execute_result",
          "data": {
            "text/plain": [
              "<matplotlib.axes._subplots.AxesSubplot at 0x7fe7dca1fcf8>"
            ]
          },
          "metadata": {
            "tags": []
          },
          "execution_count": 60
        },
        {
          "output_type": "display_data",
          "data": {
            "image/png": "[encoded data removed]",
            "text/plain": [
              "<Figure size 432x432 with 2 Axes>"
            ]
          },
          "metadata": {
            "tags": [],
            "needs_background": "light"
          }
        }
      ]
    },
    {
      "cell_type": "markdown",
      "metadata": {
        "id": "zYJ55uFJO0dB"
      },
      "source": [
        "The distance in km of the order from pick up to destination is weakly correlated to the pickup latitude and longitude. However, the pickup latitude and longitude are strongly correlated."
      ]
    },
    {
      "cell_type": "markdown",
      "metadata": {
        "id": "7dxP8f6IHfYp"
      },
      "source": [
        "## 7. Data Modelling"
      ]
    },
    {
      "cell_type": "markdown",
      "metadata": {
        "id": "LeOsNm7x-WU3"
      },
      "source": [
        "This section entails building a model that uses the existing dataset to predict the cancellation reason for all orders with missing data in the second dataset.\n",
        "\n",
        "We'll model the data using K-Nearest Neighbours machine learning algorithm.\n",
        "\n",
        "Since this is a multiclass classification, K-Nearest Neighbours algorithm is capable of performing the multiclass classification as it does not require any specific assumptions. It also works on all kinds of data on which the classification is to be performed. \n",
        "\n",
        "The following steps were performed in order to predict the missing cancellation reasons:\n",
        "* Encoding of categorical features\n",
        "* Baseline model\n",
        "* Actual model\n",
        "* Model Optimization\n",
        "* Evaluation\n",
        "* Prediction of the missing cancellation reasons."
      ]
    },
    {
      "cell_type": "markdown",
      "metadata": {
        "id": "mrxEEu1TADjl"
      },
      "source": [
        "### a.) Encoding of categorical features."
      ]
    },
    {
      "cell_type": "markdown",
      "metadata": {
        "id": "4UNWpJKzUI4H"
      },
      "source": [
        "Most of the features are categorical and are of object data type, we'll encode them using the Label Encoder before analysing them."
      ]
    },
    {
      "cell_type": "code",
      "metadata": {
        "colab": {
          "base_uri": "https://localhost:8080/",
          "height": 347
        },
        "id": "80oi1sCRCPmJ",
        "outputId": "b295f1ff-65ab-4b96-dddd-f5cf7e72da8d"
      },
      "source": [
        "#Dropping the new columns created for analysis\n",
        "df1 = df1.drop(['day', 'cancelled'], axis = 1)\n",
        "# Categorical boolean mask\n",
        "categorical_feature_mask = df1.dtypes==object\n",
        "# filter categorical columns using mask and turn it into a list\n",
        "categorical_cols = df1.columns[categorical_feature_mask].tolist()\n",
        "\n",
        "# import labelencoder\n",
        "from sklearn.preprocessing import LabelEncoder\n",
        "# instantiate labelencoder object\n",
        "le = LabelEncoder()\n",
        "\n",
        "# apply le on categorical feature columns\n",
        "df1[categorical_cols] = df1[categorical_cols].apply(lambda col: le.fit_transform(col))\n",
        "df1[categorical_cols].head(10)"
      ],
      "execution_count": null,
      "outputs": [
        {
          "output_type": "execute_result",
          "data": {
            "text/html": [
              "<div>\n",
              "<style scoped>\n",
              "    .dataframe tbody tr th:only-of-type {\n",
              "        vertical-align: middle;\n",
              "    }\n",
              "\n",
              "    .dataframe tbody tr th {\n",
              "        vertical-align: top;\n",
              "    }\n",
              "\n",
              "    .dataframe thead th {\n",
              "        text-align: right;\n",
              "    }\n",
              "</style>\n",
              "<table border=\"1\" class=\"dataframe\">\n",
              "  <thead>\n",
              "    <tr style=\"text-align: right;\">\n",
              "      <th></th>\n",
              "      <th>personal_or_business</th>\n",
              "      <th>vehicle_type</th>\n",
              "      <th>standard_or_express</th>\n",
              "      <th>platform</th>\n",
              "      <th>cancel_reason</th>\n",
              "      <th>cancelled_by</th>\n",
              "      <th>placement_day</th>\n",
              "      <th>placement_time</th>\n",
              "      <th>cancellation_day</th>\n",
              "      <th>cancellation_time</th>\n",
              "      <th>scheduled</th>\n",
              "    </tr>\n",
              "  </thead>\n",
              "  <tbody>\n",
              "    <tr>\n",
              "      <th>0</th>\n",
              "      <td>1</td>\n",
              "      <td>0</td>\n",
              "      <td>0</td>\n",
              "      <td>1</td>\n",
              "      <td>5</td>\n",
              "      <td>0</td>\n",
              "      <td>0</td>\n",
              "      <td>17</td>\n",
              "      <td>0</td>\n",
              "      <td>16</td>\n",
              "      <td>0</td>\n",
              "    </tr>\n",
              "    <tr>\n",
              "      <th>1</th>\n",
              "      <td>1</td>\n",
              "      <td>0</td>\n",
              "      <td>0</td>\n",
              "      <td>1</td>\n",
              "      <td>3</td>\n",
              "      <td>0</td>\n",
              "      <td>0</td>\n",
              "      <td>12</td>\n",
              "      <td>0</td>\n",
              "      <td>11</td>\n",
              "      <td>0</td>\n",
              "    </tr>\n",
              "    <tr>\n",
              "      <th>2</th>\n",
              "      <td>0</td>\n",
              "      <td>0</td>\n",
              "      <td>0</td>\n",
              "      <td>1</td>\n",
              "      <td>2</td>\n",
              "      <td>0</td>\n",
              "      <td>0</td>\n",
              "      <td>13</td>\n",
              "      <td>0</td>\n",
              "      <td>12</td>\n",
              "      <td>0</td>\n",
              "    </tr>\n",
              "    <tr>\n",
              "      <th>3</th>\n",
              "      <td>1</td>\n",
              "      <td>0</td>\n",
              "      <td>0</td>\n",
              "      <td>1</td>\n",
              "      <td>3</td>\n",
              "      <td>0</td>\n",
              "      <td>0</td>\n",
              "      <td>10</td>\n",
              "      <td>0</td>\n",
              "      <td>9</td>\n",
              "      <td>0</td>\n",
              "    </tr>\n",
              "    <tr>\n",
              "      <th>4</th>\n",
              "      <td>1</td>\n",
              "      <td>0</td>\n",
              "      <td>1</td>\n",
              "      <td>3</td>\n",
              "      <td>4</td>\n",
              "      <td>1</td>\n",
              "      <td>0</td>\n",
              "      <td>14</td>\n",
              "      <td>0</td>\n",
              "      <td>14</td>\n",
              "      <td>0</td>\n",
              "    </tr>\n",
              "    <tr>\n",
              "      <th>5</th>\n",
              "      <td>1</td>\n",
              "      <td>0</td>\n",
              "      <td>0</td>\n",
              "      <td>3</td>\n",
              "      <td>0</td>\n",
              "      <td>1</td>\n",
              "      <td>0</td>\n",
              "      <td>7</td>\n",
              "      <td>0</td>\n",
              "      <td>7</td>\n",
              "      <td>0</td>\n",
              "    </tr>\n",
              "    <tr>\n",
              "      <th>6</th>\n",
              "      <td>1</td>\n",
              "      <td>0</td>\n",
              "      <td>1</td>\n",
              "      <td>1</td>\n",
              "      <td>5</td>\n",
              "      <td>0</td>\n",
              "      <td>0</td>\n",
              "      <td>10</td>\n",
              "      <td>0</td>\n",
              "      <td>9</td>\n",
              "      <td>0</td>\n",
              "    </tr>\n",
              "    <tr>\n",
              "      <th>7</th>\n",
              "      <td>1</td>\n",
              "      <td>0</td>\n",
              "      <td>1</td>\n",
              "      <td>2</td>\n",
              "      <td>5</td>\n",
              "      <td>0</td>\n",
              "      <td>0</td>\n",
              "      <td>16</td>\n",
              "      <td>1</td>\n",
              "      <td>6</td>\n",
              "      <td>1</td>\n",
              "    </tr>\n",
              "    <tr>\n",
              "      <th>8</th>\n",
              "      <td>1</td>\n",
              "      <td>0</td>\n",
              "      <td>0</td>\n",
              "      <td>1</td>\n",
              "      <td>5</td>\n",
              "      <td>0</td>\n",
              "      <td>0</td>\n",
              "      <td>18</td>\n",
              "      <td>0</td>\n",
              "      <td>17</td>\n",
              "      <td>0</td>\n",
              "    </tr>\n",
              "    <tr>\n",
              "      <th>9</th>\n",
              "      <td>0</td>\n",
              "      <td>0</td>\n",
              "      <td>0</td>\n",
              "      <td>2</td>\n",
              "      <td>5</td>\n",
              "      <td>0</td>\n",
              "      <td>0</td>\n",
              "      <td>16</td>\n",
              "      <td>0</td>\n",
              "      <td>15</td>\n",
              "      <td>0</td>\n",
              "    </tr>\n",
              "  </tbody>\n",
              "</table>\n",
              "</div>"
            ],
            "text/plain": [
              "   personal_or_business  vehicle_type  ...  cancellation_time  scheduled\n",
              "0                     1             0  ...                 16          0\n",
              "1                     1             0  ...                 11          0\n",
              "2                     0             0  ...                 12          0\n",
              "3                     1             0  ...                  9          0\n",
              "4                     1             0  ...                 14          0\n",
              "5                     1             0  ...                  7          0\n",
              "6                     1             0  ...                  9          0\n",
              "7                     1             0  ...                  6          1\n",
              "8                     1             0  ...                 17          0\n",
              "9                     0             0  ...                 15          0\n",
              "\n",
              "[10 rows x 11 columns]"
            ]
          },
          "metadata": {
            "tags": []
          },
          "execution_count": 104
        }
      ]
    },
    {
      "cell_type": "markdown",
      "metadata": {
        "id": "l3UobBHKogiz"
      },
      "source": [
        "The categorical columns in the dataset have been encoded as follows;\n",
        "* Personal_or_business: 0 for Business and 1 for Personal.\n",
        "* Vehicle_type: 0 for Bike and 1 for Standard Bike.\n",
        "* Standard_or_express: 0 for Express and 1 for Standard.\n",
        "* Platform: 0 for API, 1 foe Android, 2 for desktop, 3 for IOS and 4 for peer web.\n",
        "* Cancelleed_by: 0 for customer and 1 for staff.\n",
        "* Placement_day and Cancellation_day: 0 for Day 1(Monday), 2 for Day2(Tuesday), 3 for Wednesday, 4 for Thursday, 5 for Friday, 6 for Saturday and 7 for Sunday.\n",
        "* Scheduled: 0 for Ondemand and 1 for scheduled.\n",
        "* Cancel Reason: \n",
        "    * 0 for Customer error\n",
        "    * 1 for The driver is too far away.\n",
        "    * 2 for I placed the wrong locations.\n",
        "    * 3 for My order is not ready.\n",
        "    * 4 for No Partner\n",
        "    * 5 for No driver has been allocated to my request.\n",
        "    * 6 for Delay"
      ]
    },
    {
      "cell_type": "markdown",
      "metadata": {
        "id": "iTJROvi5wgbv"
      },
      "source": [
        "### b.) Baseline Model"
      ]
    },
    {
      "cell_type": "markdown",
      "metadata": {
        "id": "MZk4u207Ucr6"
      },
      "source": [
        "We'll build a baseline model which will be a benchmark for our other models and we'll use it's accuracy score to determine if our models perform better or not.\n",
        "\n",
        "The data in this model is not scaled and is fitted to the model as it is."
      ]
    },
    {
      "cell_type": "code",
      "metadata": {
        "id": "VDDMKUq2plXf"
      },
      "source": [
        "#Importing the required libraries for the KNN model\n",
        "from sklearn.neighbors import KNeighborsClassifier\n",
        "from sklearn.model_selection import train_test_split\n",
        "from sklearn.metrics import accuracy_score"
      ],
      "execution_count": null,
      "outputs": []
    },
    {
      "cell_type": "code",
      "metadata": {
        "id": "7-04sBdKo4Z1"
      },
      "source": [
        "#Splitting the independent and dependent variables i.e. the cancel reason is the  dependent variable\n",
        "test_features = df1.columns.to_list()\n",
        "test_features.remove('cancel_reason')\n",
        "\n",
        "X = df1[test_features].values\n",
        "y = df1['cancel_reason'].values\n",
        "\n",
        "#Training using 70% of the data.\n",
        "X_train, X_test, y_train, y_test = train_test_split(X, y, test_size=0.3, random_state=6)"
      ],
      "execution_count": null,
      "outputs": []
    },
    {
      "cell_type": "code",
      "metadata": {
        "colab": {
          "base_uri": "https://localhost:8080/"
        },
        "id": "iXMk00-HpSFA",
        "outputId": "da0f5db1-4279-45cb-fab2-6479c48df0d8"
      },
      "source": [
        "#Training the model by fitting the train test with KNN classifier\n",
        " \n",
        "#Setting the value of K at 5 at first.\n",
        "classifier = KNeighborsClassifier(n_neighbors=5)\n",
        "classifier.fit(X_train, y_train)"
      ],
      "execution_count": null,
      "outputs": [
        {
          "output_type": "execute_result",
          "data": {
            "text/plain": [
              "KNeighborsClassifier(algorithm='auto', leaf_size=30, metric='minkowski',\n",
              "                     metric_params=None, n_jobs=None, n_neighbors=5, p=2,\n",
              "                     weights='uniform')"
            ]
          },
          "metadata": {
            "tags": []
          },
          "execution_count": 65
        }
      ]
    },
    {
      "cell_type": "code",
      "metadata": {
        "id": "cZgDIebQpUlu"
      },
      "source": [
        "#Predicting the test predictors\n",
        "predicted = classifier.predict(X_test)"
      ],
      "execution_count": null,
      "outputs": []
    },
    {
      "cell_type": "code",
      "metadata": {
        "colab": {
          "base_uri": "https://localhost:8080/"
        },
        "id": "iy0-A5H7pXK5",
        "outputId": "b2e56fa1-ce24-45e8-8227-4777a7c38a15"
      },
      "source": [
        "#Evaluating our model using the accuracy score\n",
        "accuracy_score(y_test, predicted)"
      ],
      "execution_count": null,
      "outputs": [
        {
          "output_type": "execute_result",
          "data": {
            "text/plain": [
              "0.3915537017726799"
            ]
          },
          "metadata": {
            "tags": []
          },
          "execution_count": 67
        }
      ]
    },
    {
      "cell_type": "markdown",
      "metadata": {
        "id": "asHqo6WmW_mP"
      },
      "source": [
        "The baseline model gives an accuracy of 39%. This accuracy will be a benchmark to see if the model improves or not."
      ]
    },
    {
      "cell_type": "markdown",
      "metadata": {
        "id": "28mJzvKlXOC4"
      },
      "source": [
        "### c.) Building the Model"
      ]
    },
    {
      "cell_type": "markdown",
      "metadata": {
        "id": "i5BYixn6XTwk"
      },
      "source": [
        "We'll now perform feature selection and build a model with the selected features."
      ]
    },
    {
      "cell_type": "markdown",
      "metadata": {
        "id": "zO9nH1zfX5cU"
      },
      "source": [
        "#### i.) Feature Selection\n",
        "We'll perform feature selection using selectKBest. Feature selection is a technique where we choose those features in our data that contribute most to the target variable. In other words we choose the best predictors for the target variable."
      ]
    },
    {
      "cell_type": "code",
      "metadata": {
        "colab": {
          "base_uri": "https://localhost:8080/"
        },
        "id": "_HCO_5cnX46N",
        "outputId": "75c405a0-dcdb-4439-e28f-ba29b5ea5ca8"
      },
      "source": [
        "#Import SelectKBest, chi2(score function for classification)\n",
        "from sklearn.feature_selection import SelectKBest, chi2\n",
        "\n",
        "#Dropping the pickup latitude column as it contained negative values and will impact the model performance\n",
        "df1 = df1.drop(['pickup_lat'], axis = 1)\n",
        "\n",
        "#Splitting the independent and dependent variables\n",
        "test_features = df1.columns.to_list()\n",
        "test_features.remove('cancel_reason')\n",
        "\n",
        "X = df1[test_features]\n",
        "y = df1['cancel_reason']\n",
        "\n",
        "#Create the object for SelectKBest and fit and transform the classification data\n",
        "#k is the number of features we want to select, here it's 6\n",
        "X_new=SelectKBest(score_func=chi2,k=6).fit_transform(X,y)\n",
        "\n",
        "#Check the newly created variable for top 6 best features\n",
        "print(X_new[:10])"
      ],
      "execution_count": null,
      "outputs": [
        {
          "output_type": "stream",
          "text": [
            "[[ 1.  1.  0. 16.  9.  0.]\n",
            " [ 1.  1.  0. 11. 14.  0.]\n",
            " [ 0.  1.  0. 12. 16.  0.]\n",
            " [ 1.  1.  0.  9. 20.  0.]\n",
            " [ 1.  3.  1. 14. 11.  0.]\n",
            " [ 1.  3.  1.  7.  7.  0.]\n",
            " [ 1.  1.  0.  9. 16.  0.]\n",
            " [ 1.  2.  0.  6. 21.  1.]\n",
            " [ 1.  1.  0. 17. 10.  0.]\n",
            " [ 0.  2.  0. 15. 11.  0.]]\n"
          ],
          "name": "stdout"
        }
      ]
    },
    {
      "cell_type": "markdown",
      "metadata": {
        "id": "JCPA2NorZfwK"
      },
      "source": [
        "The best 6 features selected are personal_or_business, platform, cancelled_by, cancellation_time, distance_(km) and scheduled.\n",
        "\n",
        "These are the features we'll use to build the model."
      ]
    },
    {
      "cell_type": "code",
      "metadata": {
        "id": "TUAEC_HPXvLP"
      },
      "source": [
        "#Splitting the independent and dependent variables i.e. the cancel reason is the  dependent variable\n",
        "test_features = df1.columns.to_list()\n",
        "test_features.remove('cancel_reason')\n",
        "\n",
        "X = df1[['personal_or_business','platform','cancelled_by','cancellation_time','distance_(km)','cancellation_day']].values\n",
        "y = df1['cancel_reason'].values\n",
        "\n",
        "#Training using 70% of the data.\n",
        "X_train, X_test, y_train, y_test = train_test_split(X, y, test_size=0.3, random_state=6)"
      ],
      "execution_count": null,
      "outputs": []
    },
    {
      "cell_type": "code",
      "metadata": {
        "id": "zog7TqmxaHHn"
      },
      "source": [
        "#Feature Scaling\n",
        "#Before making any actual predictions, we'll scale the features so that all of them can be uniformly evaluated.\n",
        "from sklearn.preprocessing import StandardScaler\n",
        "scaler = StandardScaler()\n",
        "scaler.fit(X_train)\n",
        "\n",
        "X_train = scaler.transform(X_train)\n",
        "X_test = scaler.transform(X_test)"
      ],
      "execution_count": null,
      "outputs": []
    },
    {
      "cell_type": "code",
      "metadata": {
        "colab": {
          "base_uri": "https://localhost:8080/"
        },
        "id": "lhsm8jseaFBR",
        "outputId": "9313994d-0350-4cae-8fe5-3cb9dd427ccd"
      },
      "source": [
        "#Training the model by fitting the train test with KNN classifier\n",
        " \n",
        "#Setting the value of K at 5 at first.\n",
        "classifier = KNeighborsClassifier(n_neighbors=5)\n",
        "classifier.fit(X_train, y_train)"
      ],
      "execution_count": null,
      "outputs": [
        {
          "output_type": "execute_result",
          "data": {
            "text/plain": [
              "KNeighborsClassifier(algorithm='auto', leaf_size=30, metric='minkowski',\n",
              "                     metric_params=None, n_jobs=None, n_neighbors=5, p=2,\n",
              "                     weights='uniform')"
            ]
          },
          "metadata": {
            "tags": []
          },
          "execution_count": 70
        }
      ]
    },
    {
      "cell_type": "code",
      "metadata": {
        "id": "e0LehAzzaOjD"
      },
      "source": [
        "#Predicting our test predictors\n",
        "predicted = classifier.predict(X_test)"
      ],
      "execution_count": null,
      "outputs": []
    },
    {
      "cell_type": "code",
      "metadata": {
        "colab": {
          "base_uri": "https://localhost:8080/"
        },
        "id": "VYP1ktL8aUrr",
        "outputId": "058a7bb8-4e03-4f21-b6b2-813814e77e41"
      },
      "source": [
        "#Evaluating our model using the accuracy score\n",
        "accuracy_score(y_test, predicted)"
      ],
      "execution_count": null,
      "outputs": [
        {
          "output_type": "execute_result",
          "data": {
            "text/plain": [
              "0.4556830031282586"
            ]
          },
          "metadata": {
            "tags": []
          },
          "execution_count": 72
        }
      ]
    },
    {
      "cell_type": "markdown",
      "metadata": {
        "id": "GuHcPD-jaWKN"
      },
      "source": [
        "Using selected features, the accuracy score improves to 45% from 37%. This a better model than the baseline model. However, model optimization is required in order to obtain the best parameters for modelling."
      ]
    },
    {
      "cell_type": "markdown",
      "metadata": {
        "id": "BwdRYgaaa1pT"
      },
      "source": [
        "#### ii.) Model Optimization\n",
        "Here, we'll perform hyperparameter tuning using grid search in order to obtain the best parameters for the model."
      ]
    },
    {
      "cell_type": "code",
      "metadata": {
        "colab": {
          "base_uri": "https://localhost:8080/"
        },
        "id": "SISUuWUITh9f",
        "outputId": "0026130d-f8e2-475b-85bb-88f537e7eb6e"
      },
      "source": [
        "#Import GridsearchCv from sklearn\n",
        "from sklearn.model_selection import GridSearchCV\n",
        "\n",
        "#List Hyperparameters that we want to tune.\n",
        "leaf_size = list(range(1,50))\n",
        "n_neighbors = list(range(1,30))\n",
        "p=[1,2]\n",
        "#Convert to dictionary\n",
        "hyperparameters = dict(leaf_size=leaf_size, n_neighbors=n_neighbors, p=p)\n",
        "#Create new KNN object\n",
        "knn_2 = KNeighborsClassifier()\n",
        "#Use GridSearch\n",
        "clf = GridSearchCV(knn_2, hyperparameters, cv=10)\n",
        "#Fit the model\n",
        "best_model = clf.fit(X_train,y_train)\n",
        "#Print The value of best Hyperparameters\n",
        "print('Best leaf_size:', best_model.best_estimator_.get_params()['leaf_size'])\n",
        "print('Best p:', best_model.best_estimator_.get_params()['p'])\n",
        "print('Best n_neighbors:', best_model.best_estimator_.get_params()['n_neighbors'])"
      ],
      "execution_count": null,
      "outputs": [
        {
          "output_type": "stream",
          "text": [
            "Best leaf_size: 1\n",
            "Best p: 1\n",
            "Best n_neighbors: 21\n"
          ],
          "name": "stdout"
        }
      ]
    },
    {
      "cell_type": "markdown",
      "metadata": {
        "id": "phkjyPzxe8eD"
      },
      "source": [
        "From the GridSearch, it can be seen that the best number of leaf_size is 1 while the optimal distance is p = 1,  the most optimal number of K is 21.\n",
        "\n",
        "Using the selected features, we'll now use these optimal parameters to build a model."
      ]
    },
    {
      "cell_type": "code",
      "metadata": {
        "id": "rnOf9gxcddK4"
      },
      "source": [
        "#Splitting the independent and dependent variables i.e. the cancel reason is the  dependent variable\n",
        "test_features = df1.columns.to_list()\n",
        "test_features.remove('cancel_reason')\n",
        "\n",
        "X = df1[['personal_or_business','platform','cancelled_by','cancellation_time','distance_(km)','cancellation_day']].values\n",
        "y = df1['cancel_reason'].values\n",
        "\n",
        "#Training using 70% of the data.\n",
        "X_train, X_test, y_train, y_test = train_test_split(X, y, test_size=0.3, random_state=6)"
      ],
      "execution_count": null,
      "outputs": []
    },
    {
      "cell_type": "code",
      "metadata": {
        "id": "wVyDbZCi8XVv"
      },
      "source": [
        "#Feature Scaling\n",
        "#Before making any actual predictions, we'll scale the features so that all of them can be uniformly evaluated.\n",
        "from sklearn.preprocessing import StandardScaler\n",
        "scaler = StandardScaler()\n",
        "scaler.fit(X_train)\n",
        "\n",
        "X_train = scaler.transform(X_train)\n",
        "X_test = scaler.transform(X_test)"
      ],
      "execution_count": null,
      "outputs": []
    },
    {
      "cell_type": "code",
      "metadata": {
        "colab": {
          "base_uri": "https://localhost:8080/"
        },
        "id": "toyil5Va6hia",
        "outputId": "43fd3814-77c3-4286-8b3b-d9be32ca0d30"
      },
      "source": [
        "#Training our model by fitting the train test with KNN classifier\n",
        " \n",
        "#We'll set the value of K at 21, leaf size at 1 and p at 1\n",
        "classifier = KNeighborsClassifier(n_neighbors=21, leaf_size=1, p=1)\n",
        "classifier.fit(X_train, y_train)"
      ],
      "execution_count": null,
      "outputs": [
        {
          "output_type": "execute_result",
          "data": {
            "text/plain": [
              "KNeighborsClassifier(algorithm='auto', leaf_size=1, metric='minkowski',\n",
              "                     metric_params=None, n_jobs=None, n_neighbors=21, p=1,\n",
              "                     weights='uniform')"
            ]
          },
          "metadata": {
            "tags": []
          },
          "execution_count": 75
        }
      ]
    },
    {
      "cell_type": "code",
      "metadata": {
        "id": "UYJc6PYn6jzg"
      },
      "source": [
        "#Predicting our test predictors\n",
        "predicted = classifier.predict(X_test)"
      ],
      "execution_count": null,
      "outputs": []
    },
    {
      "cell_type": "code",
      "metadata": {
        "colab": {
          "base_uri": "https://localhost:8080/"
        },
        "id": "zZLmTjvG6n-W",
        "outputId": "0e59aea7-d095-497b-e0da-721a59487288"
      },
      "source": [
        "#Evaluating our model using the accuracy score\n",
        "accuracy_score(y_test, predicted)"
      ],
      "execution_count": null,
      "outputs": [
        {
          "output_type": "execute_result",
          "data": {
            "text/plain": [
              "0.4781021897810219"
            ]
          },
          "metadata": {
            "tags": []
          },
          "execution_count": 77
        }
      ]
    },
    {
      "cell_type": "markdown",
      "metadata": {
        "id": "98i_XO-SegpH"
      },
      "source": [
        "Performing hyperparameter tuning improves the model performance and gives an accuracy of 47%.\n",
        "\n",
        "However, the accuracy is not as good, we'll use this parameters to build a model with all other features and not just the selected features."
      ]
    },
    {
      "cell_type": "code",
      "metadata": {
        "id": "c3RNK2o5JbMf"
      },
      "source": [
        "#Splitting the independent and dependent variables i.e. the cancel reason is the  dependent variable\n",
        "test_features = df1.columns.to_list()\n",
        "test_features.remove('cancel_reason')\n",
        "\n",
        "X = df1[test_features].values\n",
        "y = df1['cancel_reason'].values\n",
        "\n",
        "#Training using 70% of the data.\n",
        "X_train, X_test, y_train, y_test = train_test_split(X, y, test_size=0.3, random_state=6)"
      ],
      "execution_count": null,
      "outputs": []
    },
    {
      "cell_type": "code",
      "metadata": {
        "id": "P1Vhu3mtJdrS"
      },
      "source": [
        "#Feature Scaling\n",
        "#Before making any actual predictions, we'll scale the features so that all of them can be uniformly evaluated.\n",
        "from sklearn.preprocessing import StandardScaler\n",
        "scaler = StandardScaler()\n",
        "scaler.fit(X_train)\n",
        "\n",
        "X_train = scaler.transform(X_train)\n",
        "X_test = scaler.transform(X_test)"
      ],
      "execution_count": null,
      "outputs": []
    },
    {
      "cell_type": "code",
      "metadata": {
        "colab": {
          "base_uri": "https://localhost:8080/"
        },
        "id": "Ex5O3kyBJfab",
        "outputId": "a72ba908-688f-4358-ac90-752194e59622"
      },
      "source": [
        "#Training our model by fitting the train test with KNN classifier\n",
        " \n",
        "#We'll set the value of K at 21, leaf size at 1 and p at 1\n",
        "classifier = KNeighborsClassifier(n_neighbors=21, leaf_size=1, p=1)\n",
        "classifier.fit(X_train, y_train)"
      ],
      "execution_count": null,
      "outputs": [
        {
          "output_type": "execute_result",
          "data": {
            "text/plain": [
              "KNeighborsClassifier(algorithm='auto', leaf_size=1, metric='minkowski',\n",
              "                     metric_params=None, n_jobs=None, n_neighbors=21, p=1,\n",
              "                     weights='uniform')"
            ]
          },
          "metadata": {
            "tags": []
          },
          "execution_count": 80
        }
      ]
    },
    {
      "cell_type": "code",
      "metadata": {
        "id": "A0Tsi7r-JhB-"
      },
      "source": [
        "#Predicting our test predictors\n",
        "predicted = classifier.predict(X_test)"
      ],
      "execution_count": null,
      "outputs": []
    },
    {
      "cell_type": "code",
      "metadata": {
        "colab": {
          "base_uri": "https://localhost:8080/"
        },
        "id": "xBL3lO2JJio5",
        "outputId": "11f02737-0631-4805-d9e5-97af54602afa"
      },
      "source": [
        "#Evaluating our model using the accuracy score\n",
        "accuracy_score(y_test, predicted)"
      ],
      "execution_count": null,
      "outputs": [
        {
          "output_type": "execute_result",
          "data": {
            "text/plain": [
              "0.5015641293013556"
            ]
          },
          "metadata": {
            "tags": []
          },
          "execution_count": 82
        }
      ]
    },
    {
      "cell_type": "markdown",
      "metadata": {
        "id": "WoEVmdLcgBUi"
      },
      "source": [
        "The accuracy score improves to 50%. This is a better accuaracy than the model with the selected features and the baseline model.\n",
        "\n",
        "We'll use this model to make predictions of the missing cancel reason in the second dataset."
      ]
    },
    {
      "cell_type": "markdown",
      "metadata": {
        "id": "7pGOwsH0Fqlb"
      },
      "source": [
        "### d.) Making predictions"
      ]
    },
    {
      "cell_type": "markdown",
      "metadata": {
        "id": "dHT-y4TgF0x7"
      },
      "source": [
        "The dataset with missing cancellation reason will now be fitted to the final model in order to predict the cancellation reason for all\n",
        "orders.\n",
        "\n",
        "First, the categorical variables needs to be encoded before making predictions."
      ]
    },
    {
      "cell_type": "code",
      "metadata": {
        "colab": {
          "base_uri": "https://localhost:8080/",
          "height": 347
        },
        "id": "g-InnQu8HcBg",
        "outputId": "7462490c-742e-4843-9552-ec388d8514b9"
      },
      "source": [
        "#We'll encode the missing cancel reason dataset\n",
        "\n",
        "#Dropping the dependent variable which contains missing values\n",
        "df2 = df2.drop(['cancel_reason'], axis = 1)\n",
        "# Categorical boolean mask\n",
        "categorical_feature_mask = df2.dtypes==object\n",
        "# filter categorical columns using mask and turn it into a list\n",
        "categorical_cols = df2.columns[categorical_feature_mask].tolist()\n",
        "\n",
        "# import labelencoder\n",
        "from sklearn.preprocessing import LabelEncoder\n",
        "# instantiate labelencoder object\n",
        "le = LabelEncoder()\n",
        "\n",
        "# apply le on categorical feature columns\n",
        "df2[categorical_cols] = df2[categorical_cols].apply(lambda col: le.fit_transform(col))\n",
        "df2[categorical_cols].head(10)"
      ],
      "execution_count": null,
      "outputs": [
        {
          "output_type": "execute_result",
          "data": {
            "text/html": [
              "<div>\n",
              "<style scoped>\n",
              "    .dataframe tbody tr th:only-of-type {\n",
              "        vertical-align: middle;\n",
              "    }\n",
              "\n",
              "    .dataframe tbody tr th {\n",
              "        vertical-align: top;\n",
              "    }\n",
              "\n",
              "    .dataframe thead th {\n",
              "        text-align: right;\n",
              "    }\n",
              "</style>\n",
              "<table border=\"1\" class=\"dataframe\">\n",
              "  <thead>\n",
              "    <tr style=\"text-align: right;\">\n",
              "      <th></th>\n",
              "      <th>personal_or_business</th>\n",
              "      <th>vehicle_type</th>\n",
              "      <th>standard_or_express</th>\n",
              "      <th>platform</th>\n",
              "      <th>cancelled_by</th>\n",
              "      <th>placement_day</th>\n",
              "      <th>placement_time</th>\n",
              "      <th>cancellation_day</th>\n",
              "      <th>cancellation_time</th>\n",
              "      <th>scheduled</th>\n",
              "    </tr>\n",
              "  </thead>\n",
              "  <tbody>\n",
              "    <tr>\n",
              "      <th>0</th>\n",
              "      <td>1</td>\n",
              "      <td>0</td>\n",
              "      <td>0</td>\n",
              "      <td>3</td>\n",
              "      <td>0</td>\n",
              "      <td>0</td>\n",
              "      <td>10</td>\n",
              "      <td>0</td>\n",
              "      <td>10</td>\n",
              "      <td>0</td>\n",
              "    </tr>\n",
              "    <tr>\n",
              "      <th>1</th>\n",
              "      <td>0</td>\n",
              "      <td>0</td>\n",
              "      <td>0</td>\n",
              "      <td>2</td>\n",
              "      <td>1</td>\n",
              "      <td>0</td>\n",
              "      <td>9</td>\n",
              "      <td>0</td>\n",
              "      <td>8</td>\n",
              "      <td>0</td>\n",
              "    </tr>\n",
              "    <tr>\n",
              "      <th>2</th>\n",
              "      <td>0</td>\n",
              "      <td>0</td>\n",
              "      <td>0</td>\n",
              "      <td>2</td>\n",
              "      <td>0</td>\n",
              "      <td>0</td>\n",
              "      <td>10</td>\n",
              "      <td>0</td>\n",
              "      <td>9</td>\n",
              "      <td>0</td>\n",
              "    </tr>\n",
              "    <tr>\n",
              "      <th>3</th>\n",
              "      <td>1</td>\n",
              "      <td>0</td>\n",
              "      <td>1</td>\n",
              "      <td>1</td>\n",
              "      <td>0</td>\n",
              "      <td>0</td>\n",
              "      <td>8</td>\n",
              "      <td>0</td>\n",
              "      <td>7</td>\n",
              "      <td>0</td>\n",
              "    </tr>\n",
              "    <tr>\n",
              "      <th>4</th>\n",
              "      <td>1</td>\n",
              "      <td>0</td>\n",
              "      <td>1</td>\n",
              "      <td>1</td>\n",
              "      <td>1</td>\n",
              "      <td>0</td>\n",
              "      <td>8</td>\n",
              "      <td>0</td>\n",
              "      <td>11</td>\n",
              "      <td>1</td>\n",
              "    </tr>\n",
              "    <tr>\n",
              "      <th>5</th>\n",
              "      <td>1</td>\n",
              "      <td>0</td>\n",
              "      <td>0</td>\n",
              "      <td>1</td>\n",
              "      <td>0</td>\n",
              "      <td>0</td>\n",
              "      <td>12</td>\n",
              "      <td>0</td>\n",
              "      <td>13</td>\n",
              "      <td>0</td>\n",
              "    </tr>\n",
              "    <tr>\n",
              "      <th>6</th>\n",
              "      <td>1</td>\n",
              "      <td>0</td>\n",
              "      <td>1</td>\n",
              "      <td>1</td>\n",
              "      <td>0</td>\n",
              "      <td>0</td>\n",
              "      <td>5</td>\n",
              "      <td>0</td>\n",
              "      <td>5</td>\n",
              "      <td>0</td>\n",
              "    </tr>\n",
              "    <tr>\n",
              "      <th>7</th>\n",
              "      <td>0</td>\n",
              "      <td>0</td>\n",
              "      <td>0</td>\n",
              "      <td>2</td>\n",
              "      <td>0</td>\n",
              "      <td>0</td>\n",
              "      <td>6</td>\n",
              "      <td>0</td>\n",
              "      <td>5</td>\n",
              "      <td>0</td>\n",
              "    </tr>\n",
              "    <tr>\n",
              "      <th>8</th>\n",
              "      <td>1</td>\n",
              "      <td>0</td>\n",
              "      <td>1</td>\n",
              "      <td>3</td>\n",
              "      <td>0</td>\n",
              "      <td>0</td>\n",
              "      <td>11</td>\n",
              "      <td>0</td>\n",
              "      <td>10</td>\n",
              "      <td>1</td>\n",
              "    </tr>\n",
              "    <tr>\n",
              "      <th>9</th>\n",
              "      <td>1</td>\n",
              "      <td>0</td>\n",
              "      <td>0</td>\n",
              "      <td>3</td>\n",
              "      <td>0</td>\n",
              "      <td>0</td>\n",
              "      <td>5</td>\n",
              "      <td>0</td>\n",
              "      <td>5</td>\n",
              "      <td>0</td>\n",
              "    </tr>\n",
              "  </tbody>\n",
              "</table>\n",
              "</div>"
            ],
            "text/plain": [
              "   personal_or_business  vehicle_type  ...  cancellation_time  scheduled\n",
              "0                     1             0  ...                 10          0\n",
              "1                     0             0  ...                  8          0\n",
              "2                     0             0  ...                  9          0\n",
              "3                     1             0  ...                  7          0\n",
              "4                     1             0  ...                 11          1\n",
              "5                     1             0  ...                 13          0\n",
              "6                     1             0  ...                  5          0\n",
              "7                     0             0  ...                  5          0\n",
              "8                     1             0  ...                 10          1\n",
              "9                     1             0  ...                  5          0\n",
              "\n",
              "[10 rows x 10 columns]"
            ]
          },
          "metadata": {
            "tags": []
          },
          "execution_count": 95
        }
      ]
    },
    {
      "cell_type": "code",
      "metadata": {
        "colab": {
          "base_uri": "https://localhost:8080/"
        },
        "id": "Cg0xEbHDi3ZG",
        "outputId": "7899e5a1-605e-4c2e-ed39-b5f27499feec"
      },
      "source": [
        "#Now predicting the missing cancel reasons using the model built\n",
        "ytest_pred = classifier.predict(df2)\n",
        "ytest_pred"
      ],
      "execution_count": null,
      "outputs": [
        {
          "output_type": "execute_result",
          "data": {
            "text/plain": [
              "array([5, 2, 5, 5, 3, 5, 5, 5, 5, 5, 5, 5, 5, 5, 5, 5, 4, 5, 2, 5, 5, 5,\n",
              "       5, 5, 3, 4, 5, 5, 2, 5, 5, 5, 5, 2, 5, 4, 5, 5, 5, 3, 5, 3, 5, 5,\n",
              "       2, 5, 2, 5, 3, 3, 2, 5, 5, 5, 5, 5, 5, 5, 2, 4, 4, 3, 5, 5, 3, 4,\n",
              "       5, 4, 4, 5, 2, 5, 5, 5, 4, 5, 5, 5, 5, 5, 4, 5, 5, 5, 5, 3, 5, 5,\n",
              "       5, 5, 5, 5, 3, 4, 4, 5, 4, 4, 5, 4, 5, 4, 4, 4, 5, 4, 4, 4, 2, 4,\n",
              "       5, 5, 5, 5, 5, 4, 5, 5, 5, 5, 4, 5, 5, 5, 5, 5, 5, 2, 5, 5, 5, 4,\n",
              "       5, 5, 5, 5, 5, 5, 5, 5, 5, 5, 5, 5, 5, 5, 5, 5, 5, 5, 5, 5, 5, 5,\n",
              "       5, 5, 5, 5, 5, 5, 5, 5, 5, 5, 5, 5, 5, 4, 5, 5, 5, 5, 5, 5, 5, 5,\n",
              "       5, 5, 5, 5, 4, 5, 5, 5, 5, 5, 5, 5, 5, 5, 5, 5, 5, 5, 5, 5, 5, 5,\n",
              "       5, 5, 5, 5, 5, 5, 5, 5, 5, 5, 5, 5, 5, 5, 5, 5, 5, 5, 5, 5, 5, 5,\n",
              "       5, 5, 5, 5, 5, 5, 5, 5, 5, 5, 5, 5, 5, 5, 5, 5, 5, 5, 5, 5, 5, 5,\n",
              "       5, 5, 5, 5, 5, 5, 5, 5, 5, 5, 5, 5, 5, 5, 5, 5, 5, 5, 5, 5, 5, 5,\n",
              "       5, 5, 5, 5, 5, 5, 5, 5, 5, 5, 5, 5, 5, 5, 5, 5, 5, 5, 5, 5, 5, 5,\n",
              "       5, 5, 5, 5, 5, 5, 5, 5, 5, 5, 5, 5, 5, 5, 5, 5, 5, 5, 5, 5, 5, 5,\n",
              "       5, 5, 5, 5, 5, 5, 5, 5, 5, 5, 5, 5, 5, 5, 5, 5, 4, 5, 5, 5, 5])"
            ]
          },
          "metadata": {
            "tags": []
          },
          "execution_count": 96
        }
      ]
    },
    {
      "cell_type": "code",
      "metadata": {
        "colab": {
          "base_uri": "https://localhost:8080/",
          "height": 217
        },
        "id": "cY3Koxu7lVMu",
        "outputId": "ce8fa231-1c38-414f-8131-54c94e2fc40b"
      },
      "source": [
        "#Storing the new column under cancel reason in the dataset\n",
        "df2['cancel_reason'] = pd.Series(ytest_pred, index=df2.index)\n",
        "\n",
        "#Previewing the dataset\n",
        "df2.head()"
      ],
      "execution_count": null,
      "outputs": [
        {
          "output_type": "execute_result",
          "data": {
            "text/html": [
              "<div>\n",
              "<style scoped>\n",
              "    .dataframe tbody tr th:only-of-type {\n",
              "        vertical-align: middle;\n",
              "    }\n",
              "\n",
              "    .dataframe tbody tr th {\n",
              "        vertical-align: top;\n",
              "    }\n",
              "\n",
              "    .dataframe thead th {\n",
              "        text-align: right;\n",
              "    }\n",
              "</style>\n",
              "<table border=\"1\" class=\"dataframe\">\n",
              "  <thead>\n",
              "    <tr style=\"text-align: right;\">\n",
              "      <th></th>\n",
              "      <th>personal_or_business</th>\n",
              "      <th>vehicle_type</th>\n",
              "      <th>standard_or_express</th>\n",
              "      <th>platform</th>\n",
              "      <th>cancelled_by</th>\n",
              "      <th>placement_day</th>\n",
              "      <th>placement_time</th>\n",
              "      <th>cancellation_day</th>\n",
              "      <th>cancellation_time</th>\n",
              "      <th>distance_(km)</th>\n",
              "      <th>pickup_lat</th>\n",
              "      <th>pickup_long</th>\n",
              "      <th>scheduled</th>\n",
              "      <th>cancel_reason</th>\n",
              "    </tr>\n",
              "  </thead>\n",
              "  <tbody>\n",
              "    <tr>\n",
              "      <th>0</th>\n",
              "      <td>1</td>\n",
              "      <td>0</td>\n",
              "      <td>0</td>\n",
              "      <td>3</td>\n",
              "      <td>0</td>\n",
              "      <td>0</td>\n",
              "      <td>10</td>\n",
              "      <td>0</td>\n",
              "      <td>10</td>\n",
              "      <td>4</td>\n",
              "      <td>-1.299370</td>\n",
              "      <td>36.822107</td>\n",
              "      <td>0</td>\n",
              "      <td>5</td>\n",
              "    </tr>\n",
              "    <tr>\n",
              "      <th>1</th>\n",
              "      <td>0</td>\n",
              "      <td>0</td>\n",
              "      <td>0</td>\n",
              "      <td>2</td>\n",
              "      <td>1</td>\n",
              "      <td>0</td>\n",
              "      <td>9</td>\n",
              "      <td>0</td>\n",
              "      <td>8</td>\n",
              "      <td>17</td>\n",
              "      <td>-1.264490</td>\n",
              "      <td>36.789303</td>\n",
              "      <td>0</td>\n",
              "      <td>2</td>\n",
              "    </tr>\n",
              "    <tr>\n",
              "      <th>2</th>\n",
              "      <td>0</td>\n",
              "      <td>0</td>\n",
              "      <td>0</td>\n",
              "      <td>2</td>\n",
              "      <td>0</td>\n",
              "      <td>0</td>\n",
              "      <td>10</td>\n",
              "      <td>0</td>\n",
              "      <td>9</td>\n",
              "      <td>18</td>\n",
              "      <td>-1.427056</td>\n",
              "      <td>36.961499</td>\n",
              "      <td>0</td>\n",
              "      <td>5</td>\n",
              "    </tr>\n",
              "    <tr>\n",
              "      <th>3</th>\n",
              "      <td>1</td>\n",
              "      <td>0</td>\n",
              "      <td>1</td>\n",
              "      <td>1</td>\n",
              "      <td>0</td>\n",
              "      <td>0</td>\n",
              "      <td>8</td>\n",
              "      <td>0</td>\n",
              "      <td>7</td>\n",
              "      <td>8</td>\n",
              "      <td>-1.301737</td>\n",
              "      <td>36.743936</td>\n",
              "      <td>0</td>\n",
              "      <td>5</td>\n",
              "    </tr>\n",
              "    <tr>\n",
              "      <th>4</th>\n",
              "      <td>1</td>\n",
              "      <td>0</td>\n",
              "      <td>1</td>\n",
              "      <td>1</td>\n",
              "      <td>1</td>\n",
              "      <td>0</td>\n",
              "      <td>8</td>\n",
              "      <td>0</td>\n",
              "      <td>11</td>\n",
              "      <td>13</td>\n",
              "      <td>-1.308098</td>\n",
              "      <td>36.920464</td>\n",
              "      <td>1</td>\n",
              "      <td>3</td>\n",
              "    </tr>\n",
              "  </tbody>\n",
              "</table>\n",
              "</div>"
            ],
            "text/plain": [
              "   personal_or_business  vehicle_type  ...  scheduled  cancel_reason\n",
              "0                     1             0  ...          0              5\n",
              "1                     0             0  ...          0              2\n",
              "2                     0             0  ...          0              5\n",
              "3                     1             0  ...          0              5\n",
              "4                     1             0  ...          1              3\n",
              "\n",
              "[5 rows x 14 columns]"
            ]
          },
          "metadata": {
            "tags": []
          },
          "execution_count": 97
        }
      ]
    },
    {
      "cell_type": "markdown",
      "metadata": {
        "id": "F7j7w73bgS_B"
      },
      "source": [
        "Since all the categorical values are encoded, we'll do reverse encoding and replace them with their actual values."
      ]
    },
    {
      "cell_type": "code",
      "metadata": {
        "colab": {
          "base_uri": "https://localhost:8080/",
          "height": 367
        },
        "id": "LO-tq-VObbDS",
        "outputId": "78cddcfc-68db-4096-b311-b2ad4fb12194"
      },
      "source": [
        "#Replacing the encoded categorical values with their actual values.\n",
        "df2[\"personal_or_business\"].replace({0: \"Business\", 1: \"Personal\"}, inplace=True)\n",
        "df2[\"vehicle_type\"].replace({0: \"Bike\", 1: \"Standard Bike\"}, inplace=True)\n",
        "df2[\"standard_or_express\"].replace({0: \"Express\", 1: \"Standard\"}, inplace=True)\n",
        "df2[\"platform\"].replace({0: \"API\", 1: \"android\", 2: \"desktop\", 3: \"ios\", 4: \"peer_web\"}, inplace=True)\n",
        "df2[\"cancelled_by\"].replace({0: \"Customer\", 1: \"Staff\"}, inplace=True)\n",
        "df2[\"placement_day\"].replace({0 : 1, 1 : 2, 2 : 3, 3 : 4, 4 : 5, 5 : 6, 6 : 7}, inplace=True)\n",
        "df2[\"cancellation_day\"].replace({0 : 1, 1 : 2, 2 : 3, 3 : 4, 4 : 5, 5 : 6, 6 : 7}, inplace=True)\n",
        "df2[\"scheduled\"].replace({0: \"OnDemAND\", 1: \"Scheduled\"}, inplace=True)\n",
        "df2[\"cancel_reason\"].replace({0 : \"Customer error\", 1 : \"The driver is too far away.\", 2 : \"I placed the wrong locations.\", 3 : \"My order is not ready.\", 4 : \"No Partner\", 5 : \"No driver has been allocated to my request.\", 6 : \"Delay\"}, inplace=True)\n",
        "\n",
        "#Previewing the top 5 records of the dataset\n",
        "df2.head()"
      ],
      "execution_count": null,
      "outputs": [
        {
          "output_type": "execute_result",
          "data": {
            "text/html": [
              "<div>\n",
              "<style scoped>\n",
              "    .dataframe tbody tr th:only-of-type {\n",
              "        vertical-align: middle;\n",
              "    }\n",
              "\n",
              "    .dataframe tbody tr th {\n",
              "        vertical-align: top;\n",
              "    }\n",
              "\n",
              "    .dataframe thead th {\n",
              "        text-align: right;\n",
              "    }\n",
              "</style>\n",
              "<table border=\"1\" class=\"dataframe\">\n",
              "  <thead>\n",
              "    <tr style=\"text-align: right;\">\n",
              "      <th></th>\n",
              "      <th>personal_or_business</th>\n",
              "      <th>vehicle_type</th>\n",
              "      <th>standard_or_express</th>\n",
              "      <th>platform</th>\n",
              "      <th>cancelled_by</th>\n",
              "      <th>placement_day</th>\n",
              "      <th>placement_time</th>\n",
              "      <th>cancellation_day</th>\n",
              "      <th>cancellation_time</th>\n",
              "      <th>distance_(km)</th>\n",
              "      <th>pickup_lat</th>\n",
              "      <th>pickup_long</th>\n",
              "      <th>scheduled</th>\n",
              "      <th>cancel_reason</th>\n",
              "    </tr>\n",
              "  </thead>\n",
              "  <tbody>\n",
              "    <tr>\n",
              "      <th>0</th>\n",
              "      <td>Personal</td>\n",
              "      <td>Bike</td>\n",
              "      <td>Express</td>\n",
              "      <td>ios</td>\n",
              "      <td>Customer</td>\n",
              "      <td>1</td>\n",
              "      <td>10</td>\n",
              "      <td>1</td>\n",
              "      <td>10</td>\n",
              "      <td>4</td>\n",
              "      <td>-1.299370</td>\n",
              "      <td>36.822107</td>\n",
              "      <td>OnDemAND</td>\n",
              "      <td>No driver has been allocated to my request.</td>\n",
              "    </tr>\n",
              "    <tr>\n",
              "      <th>1</th>\n",
              "      <td>Business</td>\n",
              "      <td>Bike</td>\n",
              "      <td>Express</td>\n",
              "      <td>desktop</td>\n",
              "      <td>Staff</td>\n",
              "      <td>1</td>\n",
              "      <td>9</td>\n",
              "      <td>1</td>\n",
              "      <td>8</td>\n",
              "      <td>17</td>\n",
              "      <td>-1.264490</td>\n",
              "      <td>36.789303</td>\n",
              "      <td>OnDemAND</td>\n",
              "      <td>I placed the wrong locations.</td>\n",
              "    </tr>\n",
              "    <tr>\n",
              "      <th>2</th>\n",
              "      <td>Business</td>\n",
              "      <td>Bike</td>\n",
              "      <td>Express</td>\n",
              "      <td>desktop</td>\n",
              "      <td>Customer</td>\n",
              "      <td>1</td>\n",
              "      <td>10</td>\n",
              "      <td>1</td>\n",
              "      <td>9</td>\n",
              "      <td>18</td>\n",
              "      <td>-1.427056</td>\n",
              "      <td>36.961499</td>\n",
              "      <td>OnDemAND</td>\n",
              "      <td>No driver has been allocated to my request.</td>\n",
              "    </tr>\n",
              "    <tr>\n",
              "      <th>3</th>\n",
              "      <td>Personal</td>\n",
              "      <td>Bike</td>\n",
              "      <td>Standard</td>\n",
              "      <td>android</td>\n",
              "      <td>Customer</td>\n",
              "      <td>1</td>\n",
              "      <td>8</td>\n",
              "      <td>1</td>\n",
              "      <td>7</td>\n",
              "      <td>8</td>\n",
              "      <td>-1.301737</td>\n",
              "      <td>36.743936</td>\n",
              "      <td>OnDemAND</td>\n",
              "      <td>No driver has been allocated to my request.</td>\n",
              "    </tr>\n",
              "    <tr>\n",
              "      <th>4</th>\n",
              "      <td>Personal</td>\n",
              "      <td>Bike</td>\n",
              "      <td>Standard</td>\n",
              "      <td>android</td>\n",
              "      <td>Staff</td>\n",
              "      <td>1</td>\n",
              "      <td>8</td>\n",
              "      <td>1</td>\n",
              "      <td>11</td>\n",
              "      <td>13</td>\n",
              "      <td>-1.308098</td>\n",
              "      <td>36.920464</td>\n",
              "      <td>Scheduled</td>\n",
              "      <td>My order is not ready.</td>\n",
              "    </tr>\n",
              "  </tbody>\n",
              "</table>\n",
              "</div>"
            ],
            "text/plain": [
              "  personal_or_business  ...                                cancel_reason\n",
              "0             Personal  ...  No driver has been allocated to my request.\n",
              "1             Business  ...                I placed the wrong locations.\n",
              "2             Business  ...  No driver has been allocated to my request.\n",
              "3             Personal  ...  No driver has been allocated to my request.\n",
              "4             Personal  ...                       My order is not ready.\n",
              "\n",
              "[5 rows x 14 columns]"
            ]
          },
          "metadata": {
            "tags": []
          },
          "execution_count": 98
        }
      ]
    },
    {
      "cell_type": "markdown",
      "metadata": {
        "id": "NljXwBHrguV2"
      },
      "source": [
        "The dataset above is now complete with predictions of the missing cancel reason."
      ]
    },
    {
      "cell_type": "markdown",
      "metadata": {
        "id": "kndEu6EbHk0z"
      },
      "source": [
        "## 8. Challenging the Solution"
      ]
    },
    {
      "cell_type": "markdown",
      "metadata": {
        "id": "IWo0eXdgAwuE"
      },
      "source": [
        "The K-Nearest Neighbours model did not perform so well i.e. regardless of optimization, the model's accuracy did not increase significantly.\n",
        "\n",
        "Therefore, we'll build a model with Gradient Boosting to see if it has a better accuracy score."
      ]
    },
    {
      "cell_type": "code",
      "metadata": {
        "id": "PWDh06Pzh6up"
      },
      "source": [
        "#Importing GrandientBoosting Classifier\n",
        "from sklearn.ensemble import GradientBoostingClassifier"
      ],
      "execution_count": null,
      "outputs": []
    },
    {
      "cell_type": "code",
      "metadata": {
        "id": "zXfwakwe-0BX"
      },
      "source": [
        "#Splitting the independent and dependent variables i.e. the cancel reason is the  dependent variable\n",
        "test_features = df1.columns.to_list()\n",
        "test_features.remove('cancel_reason')\n",
        "\n",
        "X = df1[test_features].values\n",
        "y = df1['cancel_reason'].values\n",
        "# Train using 80% of the data.\n",
        "X_train, X_test, y_train, y_test = train_test_split(X, y, test_size=0.2, random_state=0)"
      ],
      "execution_count": null,
      "outputs": []
    },
    {
      "cell_type": "code",
      "metadata": {
        "id": "raxjkOys-3YI"
      },
      "source": [
        "#Feature Scaling\n",
        "#Before making any actual predictions, we'll scale the features so that all of them can be uniformly evaluated.\n",
        "from sklearn.preprocessing import StandardScaler\n",
        "scaler = StandardScaler()\n",
        "scaler.fit(X_train)\n",
        "\n",
        "X_train = scaler.transform(X_train)\n",
        "X_test = scaler.transform(X_test)"
      ],
      "execution_count": null,
      "outputs": []
    },
    {
      "cell_type": "code",
      "metadata": {
        "id": "Cy4kWkyT-591"
      },
      "source": [
        "# Train the model on the training set.\n",
        "gbr = GradientBoostingClassifier(n_estimators=200, learning_rate=0.1, max_depth=2)\n",
        "gbr = gbr.fit(X_train, y_train)\n",
        "\n",
        "y_pred_gbr = gbr.predict(X_test)"
      ],
      "execution_count": null,
      "outputs": []
    },
    {
      "cell_type": "code",
      "metadata": {
        "colab": {
          "base_uri": "https://localhost:8080/"
        },
        "id": "bm8jh48m-8Da",
        "outputId": "d05a84d6-fa35-4262-d76f-c0aa75f588c3"
      },
      "source": [
        "#Evaluating our model using the accuracy score\n",
        "accuracy_score(y_test, y_pred_gbr)"
      ],
      "execution_count": null,
      "outputs": [
        {
          "output_type": "execute_result",
          "data": {
            "text/plain": [
              "0.5207193119624707"
            ]
          },
          "metadata": {
            "tags": []
          },
          "execution_count": 111
        }
      ]
    },
    {
      "cell_type": "markdown",
      "metadata": {
        "id": "3xl2tFOaiHll"
      },
      "source": [
        "The Gradient Boosted model has 52% accuarcy which is only 2% more compared to the KNN model. In as much as this is a better model, it is not such a huge improvement. We'll therefore settle on the KNN model."
      ]
    },
    {
      "cell_type": "markdown",
      "metadata": {
        "id": "IO-oeBw7HoJ7"
      },
      "source": [
        "## 9. Recommendations"
      ]
    },
    {
      "cell_type": "markdown",
      "metadata": {
        "id": "lOp2RpIanlWJ"
      },
      "source": [
        "The following are the recommendations on how to reduce the number of cancelled orders:\n",
        "* Increase the number of drivers or allocate drivers to orders imeediately as the most common reason for cancellation was that No driver had been allocated to the order.\n",
        "* Increase the number of partners for Business orders and standard orders  i.e. waiting for multiple orders and then dispatching them together will result to less cancellations as many of these orders were cancelled because there was no partner.\n",
        "* Staff should check for customer errors on orders made on API as this was the platform with customer errors as the most cancellation reason.\n",
        "* Advice customers to schedule orders as scheduled orders have the least cancellations.\n",
        "* Standard bikes should be used to dispatch orders with a huge distance between the pickup and destination. Incase the bikes are used, the driver should be dispatched early.\n",
        "* Increase the number of standard bikes dispatching orders as they are prone to very few order cancellations.\n",
        "* Customers place wrong locations regardless, therefore, Sendy platforms should provide a way of customers to confirm their locations before requesting for a Partner/driver.\n",
        "* Increasing the number of drivers and partners on Friday as there are so many order cancellations on this day compared to other days."
      ]
    },
    {
      "cell_type": "markdown",
      "metadata": {
        "id": "XF45a90UHty8"
      },
      "source": [
        "## 10. Follow up Questions"
      ]
    },
    {
      "cell_type": "markdown",
      "metadata": {
        "id": "3gptVcIeNk6O"
      },
      "source": [
        "### a.) Did we have the right data?\n",
        "Yes, we had the right data for the analysis."
      ]
    },
    {
      "cell_type": "markdown",
      "metadata": {
        "id": "e4h1gspfNutR"
      },
      "source": [
        "### b). Do we need other data to answer our question?\n",
        "Yes, a huge dataset would have been ideal when training the model for predictions."
      ]
    },
    {
      "cell_type": "markdown",
      "metadata": {
        "id": "CRM1WMwvNxpj"
      },
      "source": [
        "### c). Did we have the right question?\n",
        "Yes, we had the right question."
      ]
    }
  ]
}